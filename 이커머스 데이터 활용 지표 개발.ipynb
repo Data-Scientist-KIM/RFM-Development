{
 "cells": [
  {
   "cell_type": "markdown",
   "id": "9b9dcd15",
   "metadata": {},
   "source": [
    "# 이커머스 데이터 활용 지표 개발(RFM)"
   ]
  },
  {
   "cell_type": "markdown",
   "id": "385db19b",
   "metadata": {},
   "source": [
    "## 문제 상황  \n",
    "\n",
    "A사는 오픈마켓 플랫폼을 운영 중이다. 런칭 이후 사용자들이 빠르게 상승하였지만, 현재는 정체기에 빠져있다. 현재 서비스 이용 수준이  \n",
    "어떻게 되고 있으며 런칭 이후 어떻게 변해왔는지를 파악하기 위해 다양한 분석을 수행하고자 한다."
   ]
  },
  {
   "cell_type": "markdown",
   "id": "ae0ef62d",
   "metadata": {},
   "source": [
    "## 문제 해결 프로세스  \n",
    "\n",
    "1. 문제정의\n",
    "\n",
    "- 런칭 이후 서비스 정체기로 인한 영업이익, 사용 고객수 감소\n",
    "\n",
    "2. 기대효과\n",
    "\n",
    "- 정체 원인 파악 및 대응책 수립 및 실행을 통한 영업이익, 사용 고객수 증가 \n",
    "\n",
    "3. 해결방안\n",
    "\n",
    "- 구매 데이터 활용 서비스 이용 현황 파악(지표 기획)\n",
    "\n",
    "4. 성과측정\n",
    "\n",
    "- 지표 활용 서비스 사용 현황 파악"
   ]
  },
  {
   "cell_type": "code",
   "execution_count": 2,
   "id": "d599f345",
   "metadata": {},
   "outputs": [
    {
     "data": {
      "text/html": [
       "<div>\n",
       "<style scoped>\n",
       "    .dataframe tbody tr th:only-of-type {\n",
       "        vertical-align: middle;\n",
       "    }\n",
       "\n",
       "    .dataframe tbody tr th {\n",
       "        vertical-align: top;\n",
       "    }\n",
       "\n",
       "    .dataframe thead th {\n",
       "        text-align: right;\n",
       "    }\n",
       "</style>\n",
       "<table border=\"1\" class=\"dataframe\">\n",
       "  <thead>\n",
       "    <tr style=\"text-align: right;\">\n",
       "      <th></th>\n",
       "      <th>InvoiceNo</th>\n",
       "      <th>StockCode</th>\n",
       "      <th>Description</th>\n",
       "      <th>Quantity</th>\n",
       "      <th>InvoiceDate</th>\n",
       "      <th>UnitPrice</th>\n",
       "      <th>CustomerID</th>\n",
       "      <th>Country</th>\n",
       "    </tr>\n",
       "  </thead>\n",
       "  <tbody>\n",
       "    <tr>\n",
       "      <th>0</th>\n",
       "      <td>536365</td>\n",
       "      <td>85123A</td>\n",
       "      <td>WHITE HANGING HEART T-LIGHT HOLDER</td>\n",
       "      <td>6</td>\n",
       "      <td>12/1/2010 8:26</td>\n",
       "      <td>2.55</td>\n",
       "      <td>17850.0</td>\n",
       "      <td>United Kingdom</td>\n",
       "    </tr>\n",
       "    <tr>\n",
       "      <th>1</th>\n",
       "      <td>536365</td>\n",
       "      <td>71053</td>\n",
       "      <td>WHITE METAL LANTERN</td>\n",
       "      <td>6</td>\n",
       "      <td>12/1/2010 8:26</td>\n",
       "      <td>3.39</td>\n",
       "      <td>17850.0</td>\n",
       "      <td>United Kingdom</td>\n",
       "    </tr>\n",
       "    <tr>\n",
       "      <th>2</th>\n",
       "      <td>536365</td>\n",
       "      <td>84406B</td>\n",
       "      <td>CREAM CUPID HEARTS COAT HANGER</td>\n",
       "      <td>8</td>\n",
       "      <td>12/1/2010 8:26</td>\n",
       "      <td>2.75</td>\n",
       "      <td>17850.0</td>\n",
       "      <td>United Kingdom</td>\n",
       "    </tr>\n",
       "    <tr>\n",
       "      <th>3</th>\n",
       "      <td>536365</td>\n",
       "      <td>84029G</td>\n",
       "      <td>KNITTED UNION FLAG HOT WATER BOTTLE</td>\n",
       "      <td>6</td>\n",
       "      <td>12/1/2010 8:26</td>\n",
       "      <td>3.39</td>\n",
       "      <td>17850.0</td>\n",
       "      <td>United Kingdom</td>\n",
       "    </tr>\n",
       "    <tr>\n",
       "      <th>4</th>\n",
       "      <td>536365</td>\n",
       "      <td>84029E</td>\n",
       "      <td>RED WOOLLY HOTTIE WHITE HEART.</td>\n",
       "      <td>6</td>\n",
       "      <td>12/1/2010 8:26</td>\n",
       "      <td>3.39</td>\n",
       "      <td>17850.0</td>\n",
       "      <td>United Kingdom</td>\n",
       "    </tr>\n",
       "  </tbody>\n",
       "</table>\n",
       "</div>"
      ],
      "text/plain": [
       "  InvoiceNo StockCode                          Description  Quantity  \\\n",
       "0    536365    85123A   WHITE HANGING HEART T-LIGHT HOLDER         6   \n",
       "1    536365     71053                  WHITE METAL LANTERN         6   \n",
       "2    536365    84406B       CREAM CUPID HEARTS COAT HANGER         8   \n",
       "3    536365    84029G  KNITTED UNION FLAG HOT WATER BOTTLE         6   \n",
       "4    536365    84029E       RED WOOLLY HOTTIE WHITE HEART.         6   \n",
       "\n",
       "      InvoiceDate  UnitPrice  CustomerID         Country  \n",
       "0  12/1/2010 8:26       2.55     17850.0  United Kingdom  \n",
       "1  12/1/2010 8:26       3.39     17850.0  United Kingdom  \n",
       "2  12/1/2010 8:26       2.75     17850.0  United Kingdom  \n",
       "3  12/1/2010 8:26       3.39     17850.0  United Kingdom  \n",
       "4  12/1/2010 8:26       3.39     17850.0  United Kingdom  "
      ]
     },
     "execution_count": 2,
     "metadata": {},
     "output_type": "execute_result"
    }
   ],
   "source": [
    "import pandas as pd\n",
    "import warnings\n",
    "warnings.filterwarnings('ignore')\n",
    "\n",
    "df = pd.read_csv('C:/Users/USER/Desktop/Practice Project - ETC/이커머스 데이터 활용 지표 개발/이커머스 데이터 활용 지표 개발.csv', encoding='ISO-8859-1')\n",
    "df.head()"
   ]
  },
  {
   "cell_type": "code",
   "execution_count": 3,
   "id": "b6ba2e62",
   "metadata": {},
   "outputs": [
    {
     "name": "stdout",
     "output_type": "stream",
     "text": [
      "<class 'pandas.core.frame.DataFrame'>\n",
      "RangeIndex: 541909 entries, 0 to 541908\n",
      "Data columns (total 8 columns):\n",
      " #   Column       Non-Null Count   Dtype  \n",
      "---  ------       --------------   -----  \n",
      " 0   InvoiceNo    541909 non-null  object \n",
      " 1   StockCode    541909 non-null  object \n",
      " 2   Description  540455 non-null  object \n",
      " 3   Quantity     541909 non-null  int64  \n",
      " 4   InvoiceDate  541909 non-null  object \n",
      " 5   UnitPrice    541909 non-null  float64\n",
      " 6   CustomerID   406829 non-null  float64\n",
      " 7   Country      541909 non-null  object \n",
      "dtypes: float64(2), int64(1), object(5)\n",
      "memory usage: 33.1+ MB\n"
     ]
    }
   ],
   "source": [
    "df.info()"
   ]
  },
  {
   "cell_type": "code",
   "execution_count": 4,
   "id": "d6c616c9",
   "metadata": {},
   "outputs": [
    {
     "data": {
      "text/plain": [
       "InvoiceNo           0\n",
       "StockCode           0\n",
       "Description      1454\n",
       "Quantity            0\n",
       "InvoiceDate         0\n",
       "UnitPrice           0\n",
       "CustomerID     135080\n",
       "Country             0\n",
       "dtype: int64"
      ]
     },
     "execution_count": 4,
     "metadata": {},
     "output_type": "execute_result"
    }
   ],
   "source": [
    "df.isnull().sum()"
   ]
  },
  {
   "cell_type": "code",
   "execution_count": 5,
   "id": "6d12f960",
   "metadata": {},
   "outputs": [
    {
     "name": "stdout",
     "output_type": "stream",
     "text": [
      "총 결측치 수: 136534 = 전체 데이터의 3.15%\n"
     ]
    }
   ],
   "source": [
    "print(\"총 결측치 수: {} = 전체 데이터의 {:.2f}%\".format(df.isnull().sum().sum(), (df.isnull().sum().sum()*100)/(df.shape[0]*df.shape[1])))"
   ]
  },
  {
   "cell_type": "markdown",
   "id": "31766a8e",
   "metadata": {},
   "source": [
    "#### 변수 해석 3가지  \n",
    "\n",
    "1. 결측치 존재 여부\n",
    "\n",
    "- 전체 데이터에서 Description, CustomerID 변수에서 결측치가 존재한다.\n",
    "\n",
    "- 결측치의 개수는 전체 3%정도 되는 136534개이다.\n",
    "\n",
    "- 결측치를 대체하는 경우, object형태는 최빈값으로 대체하고, float64형태는 평균으로 대체하거나 KNN을 사용할 수 있다.\n",
    "\n",
    "- 하지만, 결측치의 개수가 전체 데이터에 비해 적기 때문에 제거하는 것이 좋아보인다.\n",
    "\n",
    "2. 데이터 타입 설명\n",
    "\n",
    "- object형태 5개, int64형태 1개, float64형태 2개로 구성되어 있다.\n",
    "\n",
    "3. 컬럼 설명\n",
    "\n",
    "- InvoiceNo : 송장번호\n",
    "- StockCode : 재고코드\n",
    "- Description : 상세설명\n",
    "- Quantity : 수량\n",
    "- InvoiceDate : 송장날짜\n",
    "- UnitPrice : 개당가격\n",
    "- CustomerID : 고객ID\n",
    "- Country : 나라"
   ]
  },
  {
   "cell_type": "code",
   "execution_count": 6,
   "id": "4b8e218e",
   "metadata": {},
   "outputs": [
    {
     "data": {
      "text/plain": [
       "InvoiceNo      0\n",
       "StockCode      0\n",
       "Description    0\n",
       "Quantity       0\n",
       "InvoiceDate    0\n",
       "UnitPrice      0\n",
       "CustomerID     0\n",
       "Country        0\n",
       "dtype: int64"
      ]
     },
     "execution_count": 6,
     "metadata": {},
     "output_type": "execute_result"
    }
   ],
   "source": [
    "df.dropna(subset=['CustomerID'], how='all', inplace=True)\n",
    "df.isnull().sum()"
   ]
  },
  {
   "cell_type": "markdown",
   "id": "06e21168",
   "metadata": {},
   "source": [
    "결측치 데이터가 작아서 결측치를 모두 제거하는 것도 있지만, 고객ID 정보가 없는 주문에 대해서는 분석이 이루어질 수 없기 때문이기도 하다"
   ]
  },
  {
   "cell_type": "code",
   "execution_count": 7,
   "id": "822ad1e7",
   "metadata": {},
   "outputs": [
    {
     "data": {
      "text/html": [
       "<div>\n",
       "<style scoped>\n",
       "    .dataframe tbody tr th:only-of-type {\n",
       "        vertical-align: middle;\n",
       "    }\n",
       "\n",
       "    .dataframe tbody tr th {\n",
       "        vertical-align: top;\n",
       "    }\n",
       "\n",
       "    .dataframe thead th {\n",
       "        text-align: right;\n",
       "    }\n",
       "</style>\n",
       "<table border=\"1\" class=\"dataframe\">\n",
       "  <thead>\n",
       "    <tr style=\"text-align: right;\">\n",
       "      <th></th>\n",
       "      <th>Quantity</th>\n",
       "      <th>UnitPrice</th>\n",
       "      <th>CustomerID</th>\n",
       "    </tr>\n",
       "  </thead>\n",
       "  <tbody>\n",
       "    <tr>\n",
       "      <th>count</th>\n",
       "      <td>406829.000000</td>\n",
       "      <td>406829.000000</td>\n",
       "      <td>406829.000000</td>\n",
       "    </tr>\n",
       "    <tr>\n",
       "      <th>mean</th>\n",
       "      <td>12.061303</td>\n",
       "      <td>3.460471</td>\n",
       "      <td>15287.690570</td>\n",
       "    </tr>\n",
       "    <tr>\n",
       "      <th>std</th>\n",
       "      <td>248.693370</td>\n",
       "      <td>69.315162</td>\n",
       "      <td>1713.600303</td>\n",
       "    </tr>\n",
       "    <tr>\n",
       "      <th>min</th>\n",
       "      <td>-80995.000000</td>\n",
       "      <td>0.000000</td>\n",
       "      <td>12346.000000</td>\n",
       "    </tr>\n",
       "    <tr>\n",
       "      <th>25%</th>\n",
       "      <td>2.000000</td>\n",
       "      <td>1.250000</td>\n",
       "      <td>13953.000000</td>\n",
       "    </tr>\n",
       "    <tr>\n",
       "      <th>50%</th>\n",
       "      <td>5.000000</td>\n",
       "      <td>1.950000</td>\n",
       "      <td>15152.000000</td>\n",
       "    </tr>\n",
       "    <tr>\n",
       "      <th>75%</th>\n",
       "      <td>12.000000</td>\n",
       "      <td>3.750000</td>\n",
       "      <td>16791.000000</td>\n",
       "    </tr>\n",
       "    <tr>\n",
       "      <th>max</th>\n",
       "      <td>80995.000000</td>\n",
       "      <td>38970.000000</td>\n",
       "      <td>18287.000000</td>\n",
       "    </tr>\n",
       "  </tbody>\n",
       "</table>\n",
       "</div>"
      ],
      "text/plain": [
       "            Quantity      UnitPrice     CustomerID\n",
       "count  406829.000000  406829.000000  406829.000000\n",
       "mean       12.061303       3.460471   15287.690570\n",
       "std       248.693370      69.315162    1713.600303\n",
       "min    -80995.000000       0.000000   12346.000000\n",
       "25%         2.000000       1.250000   13953.000000\n",
       "50%         5.000000       1.950000   15152.000000\n",
       "75%        12.000000       3.750000   16791.000000\n",
       "max     80995.000000   38970.000000   18287.000000"
      ]
     },
     "execution_count": 7,
     "metadata": {},
     "output_type": "execute_result"
    }
   ],
   "source": [
    "df.describe()"
   ]
  },
  {
   "cell_type": "markdown",
   "id": "c2383ad4",
   "metadata": {},
   "source": [
    "우선 describe로 이상치를 판단하기 위해서는 mean, min, max 값을 확인하는 것이 좋다. mean과 min, mean과 max 값이 std에 비해 한참 차이가 난다면, 이상치가 있을 가능성이 높다. 추가로 음수값도 확인하는 것이 좋다 \n",
    "\n",
    "이러한 이상치를 정확히 판단하기 위해서는 아래와 같이 boxplot으로 시각화하여 보는 것이 정확하다."
   ]
  },
  {
   "cell_type": "code",
   "execution_count": 8,
   "id": "0996c1b0",
   "metadata": {},
   "outputs": [],
   "source": [
    "df_n = df.select_dtypes(exclude = 'object')"
   ]
  },
  {
   "cell_type": "code",
   "execution_count": 9,
   "id": "2a3e17a4",
   "metadata": {},
   "outputs": [
    {
     "data": {
      "text/html": [
       "<div>\n",
       "<style scoped>\n",
       "    .dataframe tbody tr th:only-of-type {\n",
       "        vertical-align: middle;\n",
       "    }\n",
       "\n",
       "    .dataframe tbody tr th {\n",
       "        vertical-align: top;\n",
       "    }\n",
       "\n",
       "    .dataframe thead th {\n",
       "        text-align: right;\n",
       "    }\n",
       "</style>\n",
       "<table border=\"1\" class=\"dataframe\">\n",
       "  <thead>\n",
       "    <tr style=\"text-align: right;\">\n",
       "      <th></th>\n",
       "      <th>이상치 탐색 변수</th>\n",
       "      <th>이상치 탐색 값</th>\n",
       "    </tr>\n",
       "  </thead>\n",
       "  <tbody>\n",
       "    <tr>\n",
       "      <th>0</th>\n",
       "      <td>Quantity</td>\n",
       "      <td>6.0</td>\n",
       "    </tr>\n",
       "    <tr>\n",
       "      <th>1</th>\n",
       "      <td>Quantity</td>\n",
       "      <td>6.0</td>\n",
       "    </tr>\n",
       "    <tr>\n",
       "      <th>2</th>\n",
       "      <td>Quantity</td>\n",
       "      <td>8.0</td>\n",
       "    </tr>\n",
       "    <tr>\n",
       "      <th>3</th>\n",
       "      <td>Quantity</td>\n",
       "      <td>6.0</td>\n",
       "    </tr>\n",
       "    <tr>\n",
       "      <th>4</th>\n",
       "      <td>Quantity</td>\n",
       "      <td>6.0</td>\n",
       "    </tr>\n",
       "    <tr>\n",
       "      <th>...</th>\n",
       "      <td>...</td>\n",
       "      <td>...</td>\n",
       "    </tr>\n",
       "    <tr>\n",
       "      <th>1220482</th>\n",
       "      <td>CustomerID</td>\n",
       "      <td>12680.0</td>\n",
       "    </tr>\n",
       "    <tr>\n",
       "      <th>1220483</th>\n",
       "      <td>CustomerID</td>\n",
       "      <td>12680.0</td>\n",
       "    </tr>\n",
       "    <tr>\n",
       "      <th>1220484</th>\n",
       "      <td>CustomerID</td>\n",
       "      <td>12680.0</td>\n",
       "    </tr>\n",
       "    <tr>\n",
       "      <th>1220485</th>\n",
       "      <td>CustomerID</td>\n",
       "      <td>12680.0</td>\n",
       "    </tr>\n",
       "    <tr>\n",
       "      <th>1220486</th>\n",
       "      <td>CustomerID</td>\n",
       "      <td>12680.0</td>\n",
       "    </tr>\n",
       "  </tbody>\n",
       "</table>\n",
       "<p>1220487 rows × 2 columns</p>\n",
       "</div>"
      ],
      "text/plain": [
       "          이상치 탐색 변수  이상치 탐색 값\n",
       "0          Quantity       6.0\n",
       "1          Quantity       6.0\n",
       "2          Quantity       8.0\n",
       "3          Quantity       6.0\n",
       "4          Quantity       6.0\n",
       "...             ...       ...\n",
       "1220482  CustomerID   12680.0\n",
       "1220483  CustomerID   12680.0\n",
       "1220484  CustomerID   12680.0\n",
       "1220485  CustomerID   12680.0\n",
       "1220486  CustomerID   12680.0\n",
       "\n",
       "[1220487 rows x 2 columns]"
      ]
     },
     "execution_count": 9,
     "metadata": {},
     "output_type": "execute_result"
    }
   ],
   "source": [
    "outlier = pd.melt(df_n, var_name = '이상치 탐색 변수', value_name = '이상치 탐색 값')\n",
    "outlier"
   ]
  },
  {
   "cell_type": "code",
   "execution_count": 10,
   "id": "ea45b95d",
   "metadata": {},
   "outputs": [
    {
     "data": {
      "image/png": "[encoded data removed]",
      "text/plain": [
       "<Figure size 1000x400 with 1 Axes>"
      ]
     },
     "metadata": {},
     "output_type": "display_data"
    }
   ],
   "source": [
    "import seaborn as sns\n",
    "import matplotlib.pyplot as plt\n",
    "%matplotlib inline\n",
    "from matplotlib import rc\n",
    "rc(\"font\", family = 'Malgun Gothic')\n",
    "plt.rcParams['axes.unicode_minus'] = False\n",
    "\n",
    "plt.figure(figsize = (10,4))\n",
    "sns.boxplot(x = '이상치 탐색 변수', y = '이상치 탐색 값', data = outlier)\n",
    "plt.xticks(range(3), df_n.columns)\n",
    "plt.show()"
   ]
  },
  {
   "cell_type": "markdown",
   "id": "39daf5d1",
   "metadata": {},
   "source": [
    "이상치를 탐색하기 위해서 수치형 변수들만 선택해서 boxplot으로 시각화하였다. 이상치의 값이 연속적으로 나타나면, 보통 의미있는 값일 확률이 높기 때문에 따로 제거하거나 대체하지 않고, 눈에 띄는 이상치가 있을 경우에는 보통 제거하거나 대체하는 경우가 많다. 위의 Quantity 변수는 음수값도 존재하기에 분포 확인이 필요해보인다(예를 들어, Age 변수가 999값이 있으면 제거하거나 대체하는 것이 옳다.)"
   ]
  },
  {
   "cell_type": "code",
   "execution_count": 11,
   "id": "a48e883f",
   "metadata": {},
   "outputs": [
    {
     "data": {
      "text/plain": [
       "<AxesSubplot:xlabel='Quantity', ylabel='Density'>"
      ]
     },
     "execution_count": 11,
     "metadata": {},
     "output_type": "execute_result"
    },
    {
     "data": {
      "image/png": "[encoded data removed]",
      "text/plain": [
       "<Figure size 640x480 with 1 Axes>"
      ]
     },
     "metadata": {},
     "output_type": "display_data"
    }
   ],
   "source": [
    "sns.distplot(df['Quantity'])"
   ]
  },
  {
   "cell_type": "markdown",
   "id": "1463f391",
   "metadata": {},
   "source": [
    "음수값을 확인한 결과, 매우 적은 데이터가 분포하고 있는 것을 확인할수 있다. 따라서 음수값 제거를 하는 것이 좋아보인다"
   ]
  },
  {
   "cell_type": "code",
   "execution_count": 13,
   "id": "450ec982",
   "metadata": {},
   "outputs": [
    {
     "data": {
      "text/html": [
       "<div>\n",
       "<style scoped>\n",
       "    .dataframe tbody tr th:only-of-type {\n",
       "        vertical-align: middle;\n",
       "    }\n",
       "\n",
       "    .dataframe tbody tr th {\n",
       "        vertical-align: top;\n",
       "    }\n",
       "\n",
       "    .dataframe thead th {\n",
       "        text-align: right;\n",
       "    }\n",
       "</style>\n",
       "<table border=\"1\" class=\"dataframe\">\n",
       "  <thead>\n",
       "    <tr style=\"text-align: right;\">\n",
       "      <th></th>\n",
       "      <th>Quantity</th>\n",
       "      <th>UnitPrice</th>\n",
       "      <th>CustomerID</th>\n",
       "    </tr>\n",
       "  </thead>\n",
       "  <tbody>\n",
       "    <tr>\n",
       "      <th>count</th>\n",
       "      <td>397884.000000</td>\n",
       "      <td>397884.000000</td>\n",
       "      <td>397884.000000</td>\n",
       "    </tr>\n",
       "    <tr>\n",
       "      <th>mean</th>\n",
       "      <td>12.988238</td>\n",
       "      <td>3.116488</td>\n",
       "      <td>15294.423453</td>\n",
       "    </tr>\n",
       "    <tr>\n",
       "      <th>std</th>\n",
       "      <td>179.331775</td>\n",
       "      <td>22.097877</td>\n",
       "      <td>1713.141560</td>\n",
       "    </tr>\n",
       "    <tr>\n",
       "      <th>min</th>\n",
       "      <td>1.000000</td>\n",
       "      <td>0.001000</td>\n",
       "      <td>12346.000000</td>\n",
       "    </tr>\n",
       "    <tr>\n",
       "      <th>25%</th>\n",
       "      <td>2.000000</td>\n",
       "      <td>1.250000</td>\n",
       "      <td>13969.000000</td>\n",
       "    </tr>\n",
       "    <tr>\n",
       "      <th>50%</th>\n",
       "      <td>6.000000</td>\n",
       "      <td>1.950000</td>\n",
       "      <td>15159.000000</td>\n",
       "    </tr>\n",
       "    <tr>\n",
       "      <th>75%</th>\n",
       "      <td>12.000000</td>\n",
       "      <td>3.750000</td>\n",
       "      <td>16795.000000</td>\n",
       "    </tr>\n",
       "    <tr>\n",
       "      <th>max</th>\n",
       "      <td>80995.000000</td>\n",
       "      <td>8142.750000</td>\n",
       "      <td>18287.000000</td>\n",
       "    </tr>\n",
       "  </tbody>\n",
       "</table>\n",
       "</div>"
      ],
      "text/plain": [
       "            Quantity      UnitPrice     CustomerID\n",
       "count  397884.000000  397884.000000  397884.000000\n",
       "mean       12.988238       3.116488   15294.423453\n",
       "std       179.331775      22.097877    1713.141560\n",
       "min         1.000000       0.001000   12346.000000\n",
       "25%         2.000000       1.250000   13969.000000\n",
       "50%         6.000000       1.950000   15159.000000\n",
       "75%        12.000000       3.750000   16795.000000\n",
       "max     80995.000000    8142.750000   18287.000000"
      ]
     },
     "execution_count": 13,
     "metadata": {},
     "output_type": "execute_result"
    }
   ],
   "source": [
    "df = df[df['Quantity']>0]\n",
    "df = df[df['UnitPrice']>0]\n",
    "df.describe()"
   ]
  },
  {
   "cell_type": "markdown",
   "id": "c5e39903",
   "metadata": {},
   "source": [
    "Quantity는 음수값 제거, UnitPrice는 0보다 큰 값으로 설정해준다. 개당가격이 0의 값은 존재하지 않을 것이기에 제거해준다"
   ]
  },
  {
   "cell_type": "code",
   "execution_count": 16,
   "id": "93b9be15",
   "metadata": {},
   "outputs": [
    {
     "name": "stdout",
     "output_type": "stream",
     "text": [
      "이용 고객수 :  4338\n",
      "\n",
      "이용 품목건수 :  5167812\n",
      "\n",
      "이용 나라 :  37\n"
     ]
    }
   ],
   "source": [
    "print(\"이용 고객수 : \", df['CustomerID'].nunique()) \n",
    "print(\"\")\n",
    "print(\"이용 품목건수 : \", df['Quantity'].sum())\n",
    "print(\"\")\n",
    "print(\"이용 나라 : \", df['Country'].nunique())"
   ]
  },
  {
   "cell_type": "code",
   "execution_count": 17,
   "id": "da469e9e",
   "metadata": {},
   "outputs": [
    {
     "name": "stdout",
     "output_type": "stream",
     "text": [
      "인당 평균 구매건수 :  91.72060857538035\n"
     ]
    }
   ],
   "source": [
    "print(\"인당 평균 구매건수 : \", df.groupby('CustomerID')['InvoiceNo'].count().mean())"
   ]
  },
  {
   "cell_type": "markdown",
   "id": "b3ae1248",
   "metadata": {},
   "source": [
    "## 지표 기획 및 데이터 추출 "
   ]
  },
  {
   "cell_type": "code",
   "execution_count": 18,
   "id": "e1762c31",
   "metadata": {},
   "outputs": [
    {
     "data": {
      "image/png": "[encoded data removed]",
      "text/plain": [
       "<PIL.PngImagePlugin.PngImageFile image mode=RGBA size=1025x488>"
      ]
     },
     "execution_count": 18,
     "metadata": {},
     "output_type": "execute_result"
    }
   ],
   "source": [
    "from re import A\n",
    "from PIL import Image\n",
    "Image.open('img18.PNG')"
   ]
  },
  {
   "cell_type": "markdown",
   "id": "4cd533aa",
   "metadata": {},
   "source": [
    "### Recency(최근성)"
   ]
  },
  {
   "cell_type": "code",
   "execution_count": 19,
   "id": "1f654836",
   "metadata": {},
   "outputs": [
    {
     "data": {
      "text/plain": [
       "0         12/1/2010\n",
       "1         12/1/2010\n",
       "2         12/1/2010\n",
       "3         12/1/2010\n",
       "4         12/1/2010\n",
       "            ...    \n",
       "541904    12/9/2011\n",
       "541905    12/9/2011\n",
       "541906    12/9/2011\n",
       "541907    12/9/2011\n",
       "541908    12/9/2011\n",
       "Name: InvoiceDate, Length: 397884, dtype: object"
      ]
     },
     "execution_count": 19,
     "metadata": {},
     "output_type": "execute_result"
    }
   ],
   "source": [
    "df['InvoiceDate'].str.split(' ').str[0]"
   ]
  },
  {
   "cell_type": "markdown",
   "id": "e22918a2",
   "metadata": {},
   "source": [
    "split을 사용해서 송장 데이터에 날짜 데이터만 추출한다(시간은 제외)"
   ]
  },
  {
   "cell_type": "code",
   "execution_count": 20,
   "id": "ffaf33d2",
   "metadata": {},
   "outputs": [
    {
     "data": {
      "text/html": [
       "<div>\n",
       "<style scoped>\n",
       "    .dataframe tbody tr th:only-of-type {\n",
       "        vertical-align: middle;\n",
       "    }\n",
       "\n",
       "    .dataframe tbody tr th {\n",
       "        vertical-align: top;\n",
       "    }\n",
       "\n",
       "    .dataframe thead th {\n",
       "        text-align: right;\n",
       "    }\n",
       "</style>\n",
       "<table border=\"1\" class=\"dataframe\">\n",
       "  <thead>\n",
       "    <tr style=\"text-align: right;\">\n",
       "      <th></th>\n",
       "      <th>InvoiceNo</th>\n",
       "      <th>StockCode</th>\n",
       "      <th>Description</th>\n",
       "      <th>Quantity</th>\n",
       "      <th>InvoiceDate</th>\n",
       "      <th>UnitPrice</th>\n",
       "      <th>CustomerID</th>\n",
       "      <th>Country</th>\n",
       "      <th>Date</th>\n",
       "    </tr>\n",
       "  </thead>\n",
       "  <tbody>\n",
       "    <tr>\n",
       "      <th>0</th>\n",
       "      <td>536365</td>\n",
       "      <td>85123A</td>\n",
       "      <td>WHITE HANGING HEART T-LIGHT HOLDER</td>\n",
       "      <td>6</td>\n",
       "      <td>12/1/2010 8:26</td>\n",
       "      <td>2.55</td>\n",
       "      <td>17850.0</td>\n",
       "      <td>United Kingdom</td>\n",
       "      <td>2010-12-01</td>\n",
       "    </tr>\n",
       "    <tr>\n",
       "      <th>1</th>\n",
       "      <td>536365</td>\n",
       "      <td>71053</td>\n",
       "      <td>WHITE METAL LANTERN</td>\n",
       "      <td>6</td>\n",
       "      <td>12/1/2010 8:26</td>\n",
       "      <td>3.39</td>\n",
       "      <td>17850.0</td>\n",
       "      <td>United Kingdom</td>\n",
       "      <td>2010-12-01</td>\n",
       "    </tr>\n",
       "    <tr>\n",
       "      <th>2</th>\n",
       "      <td>536365</td>\n",
       "      <td>84406B</td>\n",
       "      <td>CREAM CUPID HEARTS COAT HANGER</td>\n",
       "      <td>8</td>\n",
       "      <td>12/1/2010 8:26</td>\n",
       "      <td>2.75</td>\n",
       "      <td>17850.0</td>\n",
       "      <td>United Kingdom</td>\n",
       "      <td>2010-12-01</td>\n",
       "    </tr>\n",
       "    <tr>\n",
       "      <th>3</th>\n",
       "      <td>536365</td>\n",
       "      <td>84029G</td>\n",
       "      <td>KNITTED UNION FLAG HOT WATER BOTTLE</td>\n",
       "      <td>6</td>\n",
       "      <td>12/1/2010 8:26</td>\n",
       "      <td>3.39</td>\n",
       "      <td>17850.0</td>\n",
       "      <td>United Kingdom</td>\n",
       "      <td>2010-12-01</td>\n",
       "    </tr>\n",
       "    <tr>\n",
       "      <th>4</th>\n",
       "      <td>536365</td>\n",
       "      <td>84029E</td>\n",
       "      <td>RED WOOLLY HOTTIE WHITE HEART.</td>\n",
       "      <td>6</td>\n",
       "      <td>12/1/2010 8:26</td>\n",
       "      <td>3.39</td>\n",
       "      <td>17850.0</td>\n",
       "      <td>United Kingdom</td>\n",
       "      <td>2010-12-01</td>\n",
       "    </tr>\n",
       "  </tbody>\n",
       "</table>\n",
       "</div>"
      ],
      "text/plain": [
       "  InvoiceNo StockCode                          Description  Quantity  \\\n",
       "0    536365    85123A   WHITE HANGING HEART T-LIGHT HOLDER         6   \n",
       "1    536365     71053                  WHITE METAL LANTERN         6   \n",
       "2    536365    84406B       CREAM CUPID HEARTS COAT HANGER         8   \n",
       "3    536365    84029G  KNITTED UNION FLAG HOT WATER BOTTLE         6   \n",
       "4    536365    84029E       RED WOOLLY HOTTIE WHITE HEART.         6   \n",
       "\n",
       "      InvoiceDate  UnitPrice  CustomerID         Country       Date  \n",
       "0  12/1/2010 8:26       2.55     17850.0  United Kingdom 2010-12-01  \n",
       "1  12/1/2010 8:26       3.39     17850.0  United Kingdom 2010-12-01  \n",
       "2  12/1/2010 8:26       2.75     17850.0  United Kingdom 2010-12-01  \n",
       "3  12/1/2010 8:26       3.39     17850.0  United Kingdom 2010-12-01  \n",
       "4  12/1/2010 8:26       3.39     17850.0  United Kingdom 2010-12-01  "
      ]
     },
     "execution_count": 20,
     "metadata": {},
     "output_type": "execute_result"
    }
   ],
   "source": [
    "df['Date'] = pd.to_datetime(df['InvoiceDate'].str.split(' ').str[0])\n",
    "df.head(5)"
   ]
  },
  {
   "cell_type": "markdown",
   "id": "aca7e72d",
   "metadata": {},
   "source": [
    "object형태인 날짜 데이터를 datetime형태로 변환시켜준다"
   ]
  },
  {
   "cell_type": "code",
   "execution_count": 21,
   "id": "7baedfe4",
   "metadata": {},
   "outputs": [
    {
     "data": {
      "text/plain": [
       "(Timestamp('2010-12-01 00:00:00'), Timestamp('2011-12-09 00:00:00'))"
      ]
     },
     "execution_count": 21,
     "metadata": {},
     "output_type": "execute_result"
    }
   ],
   "source": [
    "df['Date'].min(), df['Date'].max()"
   ]
  },
  {
   "cell_type": "markdown",
   "id": "7726cbb3",
   "metadata": {},
   "source": [
    "2010-12-01부터 2011-12-09까지의 데이터인 것을 알 수 있다"
   ]
  },
  {
   "cell_type": "code",
   "execution_count": 22,
   "id": "abc5236b",
   "metadata": {},
   "outputs": [
    {
     "data": {
      "text/html": [
       "<div>\n",
       "<style scoped>\n",
       "    .dataframe tbody tr th:only-of-type {\n",
       "        vertical-align: middle;\n",
       "    }\n",
       "\n",
       "    .dataframe tbody tr th {\n",
       "        vertical-align: top;\n",
       "    }\n",
       "\n",
       "    .dataframe thead th {\n",
       "        text-align: right;\n",
       "    }\n",
       "</style>\n",
       "<table border=\"1\" class=\"dataframe\">\n",
       "  <thead>\n",
       "    <tr style=\"text-align: right;\">\n",
       "      <th></th>\n",
       "      <th>CustomerID</th>\n",
       "      <th>LastPurchaseDate</th>\n",
       "    </tr>\n",
       "  </thead>\n",
       "  <tbody>\n",
       "    <tr>\n",
       "      <th>0</th>\n",
       "      <td>12346.0</td>\n",
       "      <td>2011-01-18</td>\n",
       "    </tr>\n",
       "    <tr>\n",
       "      <th>1</th>\n",
       "      <td>12347.0</td>\n",
       "      <td>2011-12-07</td>\n",
       "    </tr>\n",
       "    <tr>\n",
       "      <th>2</th>\n",
       "      <td>12348.0</td>\n",
       "      <td>2011-09-25</td>\n",
       "    </tr>\n",
       "    <tr>\n",
       "      <th>3</th>\n",
       "      <td>12349.0</td>\n",
       "      <td>2011-11-21</td>\n",
       "    </tr>\n",
       "    <tr>\n",
       "      <th>4</th>\n",
       "      <td>12350.0</td>\n",
       "      <td>2011-02-02</td>\n",
       "    </tr>\n",
       "  </tbody>\n",
       "</table>\n",
       "</div>"
      ],
      "text/plain": [
       "   CustomerID LastPurchaseDate\n",
       "0     12346.0       2011-01-18\n",
       "1     12347.0       2011-12-07\n",
       "2     12348.0       2011-09-25\n",
       "3     12349.0       2011-11-21\n",
       "4     12350.0       2011-02-02"
      ]
     },
     "execution_count": 22,
     "metadata": {},
     "output_type": "execute_result"
    }
   ],
   "source": [
    "recency_df = df.groupby('CustomerID',as_index=False)['Date'].max()\n",
    "recency_df.columns = ['CustomerID','LastPurchaseDate']\n",
    "recency_df.head()"
   ]
  },
  {
   "cell_type": "markdown",
   "id": "88605e16",
   "metadata": {},
   "source": [
    "가독성을 높이기 위해 as_index=False를 사용해 고객ID를 인덱스로 설정하지 않는다. 고객ID별 가장 마지막 구매일을 설정한다"
   ]
  },
  {
   "cell_type": "code",
   "execution_count": 23,
   "id": "f93049bf",
   "metadata": {},
   "outputs": [],
   "source": [
    "recency_df['Recency'] = recency_df['LastPurchaseDate'].apply(lambda x : (df['Date'].max() - x).days)\n",
    "recency_df.drop(columns=['LastPurchaseDate'],inplace=True)"
   ]
  },
  {
   "cell_type": "code",
   "execution_count": 24,
   "id": "b63a1bca",
   "metadata": {},
   "outputs": [
    {
     "data": {
      "text/html": [
       "<div>\n",
       "<style scoped>\n",
       "    .dataframe tbody tr th:only-of-type {\n",
       "        vertical-align: middle;\n",
       "    }\n",
       "\n",
       "    .dataframe tbody tr th {\n",
       "        vertical-align: top;\n",
       "    }\n",
       "\n",
       "    .dataframe thead th {\n",
       "        text-align: right;\n",
       "    }\n",
       "</style>\n",
       "<table border=\"1\" class=\"dataframe\">\n",
       "  <thead>\n",
       "    <tr style=\"text-align: right;\">\n",
       "      <th></th>\n",
       "      <th>CustomerID</th>\n",
       "      <th>Recency</th>\n",
       "    </tr>\n",
       "  </thead>\n",
       "  <tbody>\n",
       "    <tr>\n",
       "      <th>0</th>\n",
       "      <td>12346.0</td>\n",
       "      <td>325</td>\n",
       "    </tr>\n",
       "    <tr>\n",
       "      <th>1</th>\n",
       "      <td>12347.0</td>\n",
       "      <td>2</td>\n",
       "    </tr>\n",
       "    <tr>\n",
       "      <th>2</th>\n",
       "      <td>12348.0</td>\n",
       "      <td>75</td>\n",
       "    </tr>\n",
       "    <tr>\n",
       "      <th>3</th>\n",
       "      <td>12349.0</td>\n",
       "      <td>18</td>\n",
       "    </tr>\n",
       "    <tr>\n",
       "      <th>4</th>\n",
       "      <td>12350.0</td>\n",
       "      <td>310</td>\n",
       "    </tr>\n",
       "  </tbody>\n",
       "</table>\n",
       "</div>"
      ],
      "text/plain": [
       "   CustomerID  Recency\n",
       "0     12346.0      325\n",
       "1     12347.0        2\n",
       "2     12348.0       75\n",
       "3     12349.0       18\n",
       "4     12350.0      310"
      ]
     },
     "execution_count": 24,
     "metadata": {},
     "output_type": "execute_result"
    }
   ],
   "source": [
    "recency_df.head(5)"
   ]
  },
  {
   "cell_type": "markdown",
   "id": "3ac831cc",
   "metadata": {},
   "source": [
    "고객의 가장 마지막 구매일로부터 몇일이 지났는지를 계산하기 위해 Recency변수를 생성한다"
   ]
  },
  {
   "cell_type": "code",
   "execution_count": 32,
   "id": "774a6133",
   "metadata": {},
   "outputs": [
    {
     "data": {
      "image/png": "[encoded data removed]",
      "text/plain": [
       "<Figure size 1600x300 with 1 Axes>"
      ]
     },
     "metadata": {},
     "output_type": "display_data"
    }
   ],
   "source": [
    "sns.displot(data = recency_df, x=\"Recency\");\n",
    "plt.gcf().set_size_inches(16, 3)"
   ]
  },
  {
   "cell_type": "markdown",
   "id": "90e69b20",
   "metadata": {},
   "source": [
    "Recency(최근성)변수의 분포를 확인한 결과, 비교적 얼마 지나지 않은 고객들이 대부분인 것을 알 수 있다"
   ]
  },
  {
   "cell_type": "markdown",
   "id": "b45bbb9d",
   "metadata": {},
   "source": [
    "### Frequency(최빈성)"
   ]
  },
  {
   "cell_type": "code",
   "execution_count": 26,
   "id": "dbcf293c",
   "metadata": {},
   "outputs": [
    {
     "data": {
      "text/html": [
       "<div>\n",
       "<style scoped>\n",
       "    .dataframe tbody tr th:only-of-type {\n",
       "        vertical-align: middle;\n",
       "    }\n",
       "\n",
       "    .dataframe tbody tr th {\n",
       "        vertical-align: top;\n",
       "    }\n",
       "\n",
       "    .dataframe thead th {\n",
       "        text-align: right;\n",
       "    }\n",
       "</style>\n",
       "<table border=\"1\" class=\"dataframe\">\n",
       "  <thead>\n",
       "    <tr style=\"text-align: right;\">\n",
       "      <th></th>\n",
       "      <th>CustomerID</th>\n",
       "      <th>Frequency</th>\n",
       "    </tr>\n",
       "  </thead>\n",
       "  <tbody>\n",
       "    <tr>\n",
       "      <th>0</th>\n",
       "      <td>12346.0</td>\n",
       "      <td>1</td>\n",
       "    </tr>\n",
       "    <tr>\n",
       "      <th>1</th>\n",
       "      <td>12347.0</td>\n",
       "      <td>7</td>\n",
       "    </tr>\n",
       "    <tr>\n",
       "      <th>2</th>\n",
       "      <td>12348.0</td>\n",
       "      <td>4</td>\n",
       "    </tr>\n",
       "    <tr>\n",
       "      <th>3</th>\n",
       "      <td>12349.0</td>\n",
       "      <td>1</td>\n",
       "    </tr>\n",
       "    <tr>\n",
       "      <th>4</th>\n",
       "      <td>12350.0</td>\n",
       "      <td>1</td>\n",
       "    </tr>\n",
       "  </tbody>\n",
       "</table>\n",
       "</div>"
      ],
      "text/plain": [
       "   CustomerID  Frequency\n",
       "0     12346.0          1\n",
       "1     12347.0          7\n",
       "2     12348.0          4\n",
       "3     12349.0          1\n",
       "4     12350.0          1"
      ]
     },
     "execution_count": 26,
     "metadata": {},
     "output_type": "execute_result"
    }
   ],
   "source": [
    "frequency_df = df.copy()\n",
    "frequency_df.drop_duplicates(subset=['CustomerID','InvoiceNo'], keep=\"first\", inplace=True) \n",
    "frequency_df = frequency_df.groupby('CustomerID', as_index=False)['InvoiceNo'].count()\n",
    "frequency_df.columns = ['CustomerID','Frequency']\n",
    "frequency_df.head()"
   ]
  },
  {
   "cell_type": "markdown",
   "id": "a72a9656",
   "metadata": {},
   "source": [
    "고객ID당 유니크한 Invoice를 1개의 주문건으로 인식하여 얼마나 자주 구매하고 있는지를 파악하기 위해 Frequency변수를 생성한다"
   ]
  },
  {
   "cell_type": "code",
   "execution_count": 33,
   "id": "2fe3ef8d",
   "metadata": {},
   "outputs": [
    {
     "data": {
      "image/png": "[encoded data removed]",
      "text/plain": [
       "<Figure size 1200x300 with 1 Axes>"
      ]
     },
     "metadata": {},
     "output_type": "display_data"
    }
   ],
   "source": [
    "sns.displot(data = frequency_df, x=\"Frequency\");\n",
    "plt.gcf().set_size_inches(12, 3)"
   ]
  },
  {
   "cell_type": "markdown",
   "id": "7261e9f7",
   "metadata": {},
   "source": [
    "Frequency(최빈성)변수의 분포를 확인한 결과, 20이하인 고객들이 대부분인 것을 알 수 있다"
   ]
  },
  {
   "cell_type": "markdown",
   "id": "541682bd",
   "metadata": {},
   "source": [
    "### Monetary(금액)"
   ]
  },
  {
   "cell_type": "code",
   "execution_count": 30,
   "id": "db38e3a8",
   "metadata": {},
   "outputs": [
    {
     "data": {
      "text/html": [
       "<div>\n",
       "<style scoped>\n",
       "    .dataframe tbody tr th:only-of-type {\n",
       "        vertical-align: middle;\n",
       "    }\n",
       "\n",
       "    .dataframe tbody tr th {\n",
       "        vertical-align: top;\n",
       "    }\n",
       "\n",
       "    .dataframe thead th {\n",
       "        text-align: right;\n",
       "    }\n",
       "</style>\n",
       "<table border=\"1\" class=\"dataframe\">\n",
       "  <thead>\n",
       "    <tr style=\"text-align: right;\">\n",
       "      <th></th>\n",
       "      <th>CustomerID</th>\n",
       "      <th>Monetary</th>\n",
       "    </tr>\n",
       "  </thead>\n",
       "  <tbody>\n",
       "    <tr>\n",
       "      <th>0</th>\n",
       "      <td>12346.0</td>\n",
       "      <td>77183.60</td>\n",
       "    </tr>\n",
       "    <tr>\n",
       "      <th>1</th>\n",
       "      <td>12347.0</td>\n",
       "      <td>4310.00</td>\n",
       "    </tr>\n",
       "    <tr>\n",
       "      <th>2</th>\n",
       "      <td>12348.0</td>\n",
       "      <td>1797.24</td>\n",
       "    </tr>\n",
       "    <tr>\n",
       "      <th>3</th>\n",
       "      <td>12349.0</td>\n",
       "      <td>1757.55</td>\n",
       "    </tr>\n",
       "    <tr>\n",
       "      <th>4</th>\n",
       "      <td>12350.0</td>\n",
       "      <td>334.40</td>\n",
       "    </tr>\n",
       "  </tbody>\n",
       "</table>\n",
       "</div>"
      ],
      "text/plain": [
       "   CustomerID  Monetary\n",
       "0     12346.0  77183.60\n",
       "1     12347.0   4310.00\n",
       "2     12348.0   1797.24\n",
       "3     12349.0   1757.55\n",
       "4     12350.0    334.40"
      ]
     },
     "execution_count": 30,
     "metadata": {},
     "output_type": "execute_result"
    }
   ],
   "source": [
    "df['Total_cost'] = df['UnitPrice'] * df['Quantity']\n",
    "monetary_df=df.groupby('CustomerID',as_index=False)['Total_cost'].sum()\n",
    "monetary_df.columns = ['CustomerID','Monetary']\n",
    "monetary_df.head()"
   ]
  },
  {
   "cell_type": "markdown",
   "id": "bb24dca6",
   "metadata": {},
   "source": [
    "구매금액 = 구매개수(수량) * 구매단가(개당가격)  \n",
    "\n",
    "구매금액을 파악하기 위해 Monetary변수를 생성한다"
   ]
  },
  {
   "cell_type": "code",
   "execution_count": 35,
   "id": "be56ec22",
   "metadata": {},
   "outputs": [
    {
     "data": {
      "image/png": "[encoded data removed]",
      "text/plain": [
       "<Figure size 1200x300 with 1 Axes>"
      ]
     },
     "metadata": {},
     "output_type": "display_data"
    }
   ],
   "source": [
    "sns.displot(data = monetary_df, x=\"Monetary\");\n",
    "plt.gcf().set_size_inches(12, 3)"
   ]
  },
  {
   "cell_type": "markdown",
   "id": "37c543e3",
   "metadata": {},
   "source": [
    "Monetary(금액)변수의 분포를 확인한 결과, 20000이하인 고객들이 대부분인 것을 알 수 있다"
   ]
  },
  {
   "cell_type": "markdown",
   "id": "196752d1",
   "metadata": {},
   "source": [
    "### RFM"
   ]
  },
  {
   "cell_type": "code",
   "execution_count": 36,
   "id": "57737b00",
   "metadata": {},
   "outputs": [
    {
     "data": {
      "text/html": [
       "<div>\n",
       "<style scoped>\n",
       "    .dataframe tbody tr th:only-of-type {\n",
       "        vertical-align: middle;\n",
       "    }\n",
       "\n",
       "    .dataframe tbody tr th {\n",
       "        vertical-align: top;\n",
       "    }\n",
       "\n",
       "    .dataframe thead th {\n",
       "        text-align: right;\n",
       "    }\n",
       "</style>\n",
       "<table border=\"1\" class=\"dataframe\">\n",
       "  <thead>\n",
       "    <tr style=\"text-align: right;\">\n",
       "      <th></th>\n",
       "      <th>CustomerID</th>\n",
       "      <th>Recency</th>\n",
       "      <th>Frequency</th>\n",
       "      <th>Monetary</th>\n",
       "    </tr>\n",
       "  </thead>\n",
       "  <tbody>\n",
       "    <tr>\n",
       "      <th>0</th>\n",
       "      <td>12346.0</td>\n",
       "      <td>325</td>\n",
       "      <td>1</td>\n",
       "      <td>77183.60</td>\n",
       "    </tr>\n",
       "    <tr>\n",
       "      <th>1</th>\n",
       "      <td>12347.0</td>\n",
       "      <td>2</td>\n",
       "      <td>7</td>\n",
       "      <td>4310.00</td>\n",
       "    </tr>\n",
       "    <tr>\n",
       "      <th>2</th>\n",
       "      <td>12348.0</td>\n",
       "      <td>75</td>\n",
       "      <td>4</td>\n",
       "      <td>1797.24</td>\n",
       "    </tr>\n",
       "    <tr>\n",
       "      <th>3</th>\n",
       "      <td>12349.0</td>\n",
       "      <td>18</td>\n",
       "      <td>1</td>\n",
       "      <td>1757.55</td>\n",
       "    </tr>\n",
       "    <tr>\n",
       "      <th>4</th>\n",
       "      <td>12350.0</td>\n",
       "      <td>310</td>\n",
       "      <td>1</td>\n",
       "      <td>334.40</td>\n",
       "    </tr>\n",
       "  </tbody>\n",
       "</table>\n",
       "</div>"
      ],
      "text/plain": [
       "   CustomerID  Recency  Frequency  Monetary\n",
       "0     12346.0      325          1  77183.60\n",
       "1     12347.0        2          7   4310.00\n",
       "2     12348.0       75          4   1797.24\n",
       "3     12349.0       18          1   1757.55\n",
       "4     12350.0      310          1    334.40"
      ]
     },
     "execution_count": 36,
     "metadata": {},
     "output_type": "execute_result"
    }
   ],
   "source": [
    "rf = recency_df.merge(frequency_df,how='left',on='CustomerID')\n",
    "\n",
    "rfm = rf.merge(monetary_df,how='left',on='CustomerID')\n",
    "\n",
    "rfm.head(5)"
   ]
  },
  {
   "cell_type": "markdown",
   "id": "9825c76a",
   "metadata": {},
   "source": [
    "Recency(최근성), Frequency(최빈성), Monetary(금액)을 하나의 지표로 만든다(RFM)"
   ]
  },
  {
   "cell_type": "markdown",
   "id": "be6ce63e",
   "metadata": {},
   "source": [
    "## RFM 활용 서비스 이용 수준 측정"
   ]
  },
  {
   "cell_type": "code",
   "execution_count": 37,
   "id": "46eca323",
   "metadata": {},
   "outputs": [
    {
     "data": {
      "text/html": [
       "<div>\n",
       "<style scoped>\n",
       "    .dataframe tbody tr th:only-of-type {\n",
       "        vertical-align: middle;\n",
       "    }\n",
       "\n",
       "    .dataframe tbody tr th {\n",
       "        vertical-align: top;\n",
       "    }\n",
       "\n",
       "    .dataframe thead th {\n",
       "        text-align: right;\n",
       "    }\n",
       "</style>\n",
       "<table border=\"1\" class=\"dataframe\">\n",
       "  <thead>\n",
       "    <tr style=\"text-align: right;\">\n",
       "      <th></th>\n",
       "      <th>CustomerID</th>\n",
       "      <th>Recency</th>\n",
       "      <th>Frequency</th>\n",
       "      <th>Monetary</th>\n",
       "      <th>Score</th>\n",
       "    </tr>\n",
       "  </thead>\n",
       "  <tbody>\n",
       "    <tr>\n",
       "      <th>0</th>\n",
       "      <td>12346.0</td>\n",
       "      <td>0.128686</td>\n",
       "      <td>0.000000</td>\n",
       "      <td>0.275443</td>\n",
       "      <td>0.404130</td>\n",
       "    </tr>\n",
       "    <tr>\n",
       "      <th>1</th>\n",
       "      <td>12347.0</td>\n",
       "      <td>0.994638</td>\n",
       "      <td>0.028846</td>\n",
       "      <td>0.015368</td>\n",
       "      <td>1.038853</td>\n",
       "    </tr>\n",
       "    <tr>\n",
       "      <th>2</th>\n",
       "      <td>12348.0</td>\n",
       "      <td>0.798928</td>\n",
       "      <td>0.014423</td>\n",
       "      <td>0.006401</td>\n",
       "      <td>0.819751</td>\n",
       "    </tr>\n",
       "    <tr>\n",
       "      <th>3</th>\n",
       "      <td>12349.0</td>\n",
       "      <td>0.951743</td>\n",
       "      <td>0.000000</td>\n",
       "      <td>0.006259</td>\n",
       "      <td>0.958002</td>\n",
       "    </tr>\n",
       "    <tr>\n",
       "      <th>4</th>\n",
       "      <td>12350.0</td>\n",
       "      <td>0.168901</td>\n",
       "      <td>0.000000</td>\n",
       "      <td>0.001180</td>\n",
       "      <td>0.170081</td>\n",
       "    </tr>\n",
       "    <tr>\n",
       "      <th>...</th>\n",
       "      <td>...</td>\n",
       "      <td>...</td>\n",
       "      <td>...</td>\n",
       "      <td>...</td>\n",
       "      <td>...</td>\n",
       "    </tr>\n",
       "    <tr>\n",
       "      <th>4333</th>\n",
       "      <td>18280.0</td>\n",
       "      <td>0.257373</td>\n",
       "      <td>0.000000</td>\n",
       "      <td>0.000631</td>\n",
       "      <td>0.258004</td>\n",
       "    </tr>\n",
       "    <tr>\n",
       "      <th>4334</th>\n",
       "      <td>18281.0</td>\n",
       "      <td>0.517426</td>\n",
       "      <td>0.000000</td>\n",
       "      <td>0.000275</td>\n",
       "      <td>0.517701</td>\n",
       "    </tr>\n",
       "    <tr>\n",
       "      <th>4335</th>\n",
       "      <td>18282.0</td>\n",
       "      <td>0.981233</td>\n",
       "      <td>0.004808</td>\n",
       "      <td>0.000622</td>\n",
       "      <td>0.986663</td>\n",
       "    </tr>\n",
       "    <tr>\n",
       "      <th>4336</th>\n",
       "      <td>18283.0</td>\n",
       "      <td>0.991957</td>\n",
       "      <td>0.072115</td>\n",
       "      <td>0.007463</td>\n",
       "      <td>1.071535</td>\n",
       "    </tr>\n",
       "    <tr>\n",
       "      <th>4337</th>\n",
       "      <td>18287.0</td>\n",
       "      <td>0.887399</td>\n",
       "      <td>0.009615</td>\n",
       "      <td>0.006544</td>\n",
       "      <td>0.903558</td>\n",
       "    </tr>\n",
       "  </tbody>\n",
       "</table>\n",
       "<p>4338 rows × 5 columns</p>\n",
       "</div>"
      ],
      "text/plain": [
       "      CustomerID   Recency  Frequency  Monetary     Score\n",
       "0        12346.0  0.128686   0.000000  0.275443  0.404130\n",
       "1        12347.0  0.994638   0.028846  0.015368  1.038853\n",
       "2        12348.0  0.798928   0.014423  0.006401  0.819751\n",
       "3        12349.0  0.951743   0.000000  0.006259  0.958002\n",
       "4        12350.0  0.168901   0.000000  0.001180  0.170081\n",
       "...          ...       ...        ...       ...       ...\n",
       "4333     18280.0  0.257373   0.000000  0.000631  0.258004\n",
       "4334     18281.0  0.517426   0.000000  0.000275  0.517701\n",
       "4335     18282.0  0.981233   0.004808  0.000622  0.986663\n",
       "4336     18283.0  0.991957   0.072115  0.007463  1.071535\n",
       "4337     18287.0  0.887399   0.009615  0.006544  0.903558\n",
       "\n",
       "[4338 rows x 5 columns]"
      ]
     },
     "execution_count": 37,
     "metadata": {},
     "output_type": "execute_result"
    }
   ],
   "source": [
    "from sklearn.preprocessing import minmax_scale\n",
    "\n",
    "rfm['Recency'] = minmax_scale(rfm['Recency'], axis=0, copy=True)\n",
    "rfm['Recency'] = 1-rfm['Recency']\n",
    "\n",
    "rfm['Frequency'] = minmax_scale(rfm['Frequency'], axis=0, copy=True)\n",
    "\n",
    "rfm['Monetary'] = minmax_scale(rfm['Monetary'], axis=0, copy=True)\n",
    "\n",
    "rfm['Score']=rfm['Recency']+rfm['Frequency']+rfm['Monetary']\n",
    "\n",
    "rfm"
   ]
  },
  {
   "cell_type": "markdown",
   "id": "beb6781e",
   "metadata": {},
   "source": [
    "Min max scale을 통해 최대값을 1, 최소값을 0으로 표준화하여 계산한다. Recency(최근성)은 숫자가 작을수록, 즉 최근 구매일이 얼마 지나지 않은 고객이 더 점수가 높게 설정한다"
   ]
  },
  {
   "cell_type": "code",
   "execution_count": 38,
   "id": "baf17997",
   "metadata": {},
   "outputs": [],
   "source": [
    "rfm['Score']=minmax_scale(rfm['Score'], axis=0, copy=True)*100\n",
    "rfm['Score']=round(rfm['Score'],0)"
   ]
  },
  {
   "cell_type": "code",
   "execution_count": 39,
   "id": "c7e9cf4d",
   "metadata": {},
   "outputs": [
    {
     "data": {
      "text/html": [
       "<div>\n",
       "<style scoped>\n",
       "    .dataframe tbody tr th:only-of-type {\n",
       "        vertical-align: middle;\n",
       "    }\n",
       "\n",
       "    .dataframe tbody tr th {\n",
       "        vertical-align: top;\n",
       "    }\n",
       "\n",
       "    .dataframe thead th {\n",
       "        text-align: right;\n",
       "    }\n",
       "</style>\n",
       "<table border=\"1\" class=\"dataframe\">\n",
       "  <thead>\n",
       "    <tr style=\"text-align: right;\">\n",
       "      <th></th>\n",
       "      <th>CustomerID</th>\n",
       "      <th>Recency</th>\n",
       "      <th>Frequency</th>\n",
       "      <th>Monetary</th>\n",
       "      <th>Score</th>\n",
       "    </tr>\n",
       "  </thead>\n",
       "  <tbody>\n",
       "    <tr>\n",
       "      <th>0</th>\n",
       "      <td>12346.0</td>\n",
       "      <td>0.128686</td>\n",
       "      <td>0.000000</td>\n",
       "      <td>0.275443</td>\n",
       "      <td>16.0</td>\n",
       "    </tr>\n",
       "    <tr>\n",
       "      <th>1</th>\n",
       "      <td>12347.0</td>\n",
       "      <td>0.994638</td>\n",
       "      <td>0.028846</td>\n",
       "      <td>0.015368</td>\n",
       "      <td>42.0</td>\n",
       "    </tr>\n",
       "    <tr>\n",
       "      <th>2</th>\n",
       "      <td>12348.0</td>\n",
       "      <td>0.798928</td>\n",
       "      <td>0.014423</td>\n",
       "      <td>0.006401</td>\n",
       "      <td>33.0</td>\n",
       "    </tr>\n",
       "    <tr>\n",
       "      <th>3</th>\n",
       "      <td>12349.0</td>\n",
       "      <td>0.951743</td>\n",
       "      <td>0.000000</td>\n",
       "      <td>0.006259</td>\n",
       "      <td>39.0</td>\n",
       "    </tr>\n",
       "    <tr>\n",
       "      <th>4</th>\n",
       "      <td>12350.0</td>\n",
       "      <td>0.168901</td>\n",
       "      <td>0.000000</td>\n",
       "      <td>0.001180</td>\n",
       "      <td>7.0</td>\n",
       "    </tr>\n",
       "  </tbody>\n",
       "</table>\n",
       "</div>"
      ],
      "text/plain": [
       "   CustomerID   Recency  Frequency  Monetary  Score\n",
       "0     12346.0  0.128686   0.000000  0.275443   16.0\n",
       "1     12347.0  0.994638   0.028846  0.015368   42.0\n",
       "2     12348.0  0.798928   0.014423  0.006401   33.0\n",
       "3     12349.0  0.951743   0.000000  0.006259   39.0\n",
       "4     12350.0  0.168901   0.000000  0.001180    7.0"
      ]
     },
     "execution_count": 39,
     "metadata": {},
     "output_type": "execute_result"
    }
   ],
   "source": [
    "rfm.head(5)"
   ]
  },
  {
   "cell_type": "markdown",
   "id": "00e34ac0",
   "metadata": {},
   "source": [
    "100을 곱해서 100점 만점으로 scaling한다"
   ]
  },
  {
   "cell_type": "code",
   "execution_count": 40,
   "id": "4d2ffcc0",
   "metadata": {},
   "outputs": [
    {
     "data": {
      "image/png": "[encoded data removed]",
      "text/plain": [
       "<Figure size 500x500 with 1 Axes>"
      ]
     },
     "metadata": {},
     "output_type": "display_data"
    }
   ],
   "source": [
    "sns.displot(rfm['Score']);"
   ]
  },
  {
   "cell_type": "code",
   "execution_count": 43,
   "id": "e38cffdb",
   "metadata": {},
   "outputs": [
    {
     "data": {
      "text/html": [
       "<div>\n",
       "<style scoped>\n",
       "    .dataframe tbody tr th:only-of-type {\n",
       "        vertical-align: middle;\n",
       "    }\n",
       "\n",
       "    .dataframe tbody tr th {\n",
       "        vertical-align: top;\n",
       "    }\n",
       "\n",
       "    .dataframe thead th {\n",
       "        text-align: right;\n",
       "    }\n",
       "</style>\n",
       "<table border=\"1\" class=\"dataframe\">\n",
       "  <thead>\n",
       "    <tr style=\"text-align: right;\">\n",
       "      <th></th>\n",
       "      <th>CustomerID</th>\n",
       "      <th>Recency</th>\n",
       "      <th>Frequency</th>\n",
       "      <th>Monetary</th>\n",
       "      <th>Score</th>\n",
       "      <th>Grade</th>\n",
       "    </tr>\n",
       "  </thead>\n",
       "  <tbody>\n",
       "    <tr>\n",
       "      <th>0</th>\n",
       "      <td>12346.0</td>\n",
       "      <td>0.128686</td>\n",
       "      <td>0.000000</td>\n",
       "      <td>0.275443</td>\n",
       "      <td>16.0</td>\n",
       "      <td>Weak</td>\n",
       "    </tr>\n",
       "    <tr>\n",
       "      <th>1</th>\n",
       "      <td>12347.0</td>\n",
       "      <td>0.994638</td>\n",
       "      <td>0.028846</td>\n",
       "      <td>0.015368</td>\n",
       "      <td>42.0</td>\n",
       "      <td>Strong</td>\n",
       "    </tr>\n",
       "    <tr>\n",
       "      <th>2</th>\n",
       "      <td>12348.0</td>\n",
       "      <td>0.798928</td>\n",
       "      <td>0.014423</td>\n",
       "      <td>0.006401</td>\n",
       "      <td>33.0</td>\n",
       "      <td>Normal</td>\n",
       "    </tr>\n",
       "    <tr>\n",
       "      <th>3</th>\n",
       "      <td>12349.0</td>\n",
       "      <td>0.951743</td>\n",
       "      <td>0.000000</td>\n",
       "      <td>0.006259</td>\n",
       "      <td>39.0</td>\n",
       "      <td>Normal</td>\n",
       "    </tr>\n",
       "    <tr>\n",
       "      <th>4</th>\n",
       "      <td>12350.0</td>\n",
       "      <td>0.168901</td>\n",
       "      <td>0.000000</td>\n",
       "      <td>0.001180</td>\n",
       "      <td>7.0</td>\n",
       "      <td>Very Weak</td>\n",
       "    </tr>\n",
       "  </tbody>\n",
       "</table>\n",
       "</div>"
      ],
      "text/plain": [
       "   CustomerID   Recency  Frequency  Monetary  Score      Grade\n",
       "0     12346.0  0.128686   0.000000  0.275443   16.0       Weak\n",
       "1     12347.0  0.994638   0.028846  0.015368   42.0     Strong\n",
       "2     12348.0  0.798928   0.014423  0.006401   33.0     Normal\n",
       "3     12349.0  0.951743   0.000000  0.006259   39.0     Normal\n",
       "4     12350.0  0.168901   0.000000  0.001180    7.0  Very Weak"
      ]
     },
     "execution_count": 43,
     "metadata": {},
     "output_type": "execute_result"
    }
   ],
   "source": [
    "import numpy as np\n",
    "\n",
    "rfm['Grade'] = rfm['Score'].apply(lambda x : 'Very Strong' if x>=60 else \n",
    "                                  ('Strong' if x>=40 else \n",
    "                                   ('Normal' if x>=20 else \n",
    "                                    ('Weak' if x>=10 else 'Very Weak'))))\n",
    "rfm.head(5)"
   ]
  },
  {
   "cell_type": "markdown",
   "id": "f14e82cf",
   "metadata": {},
   "source": [
    "Grade(점수) 구간화를 통해 점수별로 고객의 등급을 아래와 같이 설정한다  \n",
    "\n",
    "- 60점 이상 : Very storong\n",
    "- 40~60점 : Storng\n",
    "- 20~40점 : Normal\n",
    "- 10~20점 : Weak\n",
    "- 0~10점 : Very Weak"
   ]
  },
  {
   "cell_type": "code",
   "execution_count": 44,
   "id": "89a9ea01",
   "metadata": {},
   "outputs": [
    {
     "data": {
      "text/html": [
       "<div>\n",
       "<style scoped>\n",
       "    .dataframe tbody tr th:only-of-type {\n",
       "        vertical-align: middle;\n",
       "    }\n",
       "\n",
       "    .dataframe tbody tr th {\n",
       "        vertical-align: top;\n",
       "    }\n",
       "\n",
       "    .dataframe thead th {\n",
       "        text-align: right;\n",
       "    }\n",
       "</style>\n",
       "<table border=\"1\" class=\"dataframe\">\n",
       "  <thead>\n",
       "    <tr style=\"text-align: right;\">\n",
       "      <th></th>\n",
       "      <th>InvoiceNo</th>\n",
       "      <th>StockCode</th>\n",
       "      <th>Description</th>\n",
       "      <th>Quantity</th>\n",
       "      <th>InvoiceDate</th>\n",
       "      <th>UnitPrice</th>\n",
       "      <th>CustomerID</th>\n",
       "      <th>Country</th>\n",
       "      <th>Date</th>\n",
       "      <th>Total_cost</th>\n",
       "      <th>Recency</th>\n",
       "      <th>Frequency</th>\n",
       "      <th>Monetary</th>\n",
       "      <th>Score</th>\n",
       "      <th>Grade</th>\n",
       "    </tr>\n",
       "  </thead>\n",
       "  <tbody>\n",
       "    <tr>\n",
       "      <th>0</th>\n",
       "      <td>536365</td>\n",
       "      <td>85123A</td>\n",
       "      <td>WHITE HANGING HEART T-LIGHT HOLDER</td>\n",
       "      <td>6</td>\n",
       "      <td>12/1/2010 8:26</td>\n",
       "      <td>2.55</td>\n",
       "      <td>17850.0</td>\n",
       "      <td>United Kingdom</td>\n",
       "      <td>2010-12-01</td>\n",
       "      <td>15.30</td>\n",
       "      <td>0.002681</td>\n",
       "      <td>0.158654</td>\n",
       "      <td>0.019227</td>\n",
       "      <td>7.0</td>\n",
       "      <td>Very Weak</td>\n",
       "    </tr>\n",
       "    <tr>\n",
       "      <th>1</th>\n",
       "      <td>536365</td>\n",
       "      <td>71053</td>\n",
       "      <td>WHITE METAL LANTERN</td>\n",
       "      <td>6</td>\n",
       "      <td>12/1/2010 8:26</td>\n",
       "      <td>3.39</td>\n",
       "      <td>17850.0</td>\n",
       "      <td>United Kingdom</td>\n",
       "      <td>2010-12-01</td>\n",
       "      <td>20.34</td>\n",
       "      <td>0.002681</td>\n",
       "      <td>0.158654</td>\n",
       "      <td>0.019227</td>\n",
       "      <td>7.0</td>\n",
       "      <td>Very Weak</td>\n",
       "    </tr>\n",
       "    <tr>\n",
       "      <th>2</th>\n",
       "      <td>536365</td>\n",
       "      <td>84406B</td>\n",
       "      <td>CREAM CUPID HEARTS COAT HANGER</td>\n",
       "      <td>8</td>\n",
       "      <td>12/1/2010 8:26</td>\n",
       "      <td>2.75</td>\n",
       "      <td>17850.0</td>\n",
       "      <td>United Kingdom</td>\n",
       "      <td>2010-12-01</td>\n",
       "      <td>22.00</td>\n",
       "      <td>0.002681</td>\n",
       "      <td>0.158654</td>\n",
       "      <td>0.019227</td>\n",
       "      <td>7.0</td>\n",
       "      <td>Very Weak</td>\n",
       "    </tr>\n",
       "    <tr>\n",
       "      <th>3</th>\n",
       "      <td>536365</td>\n",
       "      <td>84029G</td>\n",
       "      <td>KNITTED UNION FLAG HOT WATER BOTTLE</td>\n",
       "      <td>6</td>\n",
       "      <td>12/1/2010 8:26</td>\n",
       "      <td>3.39</td>\n",
       "      <td>17850.0</td>\n",
       "      <td>United Kingdom</td>\n",
       "      <td>2010-12-01</td>\n",
       "      <td>20.34</td>\n",
       "      <td>0.002681</td>\n",
       "      <td>0.158654</td>\n",
       "      <td>0.019227</td>\n",
       "      <td>7.0</td>\n",
       "      <td>Very Weak</td>\n",
       "    </tr>\n",
       "    <tr>\n",
       "      <th>4</th>\n",
       "      <td>536365</td>\n",
       "      <td>84029E</td>\n",
       "      <td>RED WOOLLY HOTTIE WHITE HEART.</td>\n",
       "      <td>6</td>\n",
       "      <td>12/1/2010 8:26</td>\n",
       "      <td>3.39</td>\n",
       "      <td>17850.0</td>\n",
       "      <td>United Kingdom</td>\n",
       "      <td>2010-12-01</td>\n",
       "      <td>20.34</td>\n",
       "      <td>0.002681</td>\n",
       "      <td>0.158654</td>\n",
       "      <td>0.019227</td>\n",
       "      <td>7.0</td>\n",
       "      <td>Very Weak</td>\n",
       "    </tr>\n",
       "  </tbody>\n",
       "</table>\n",
       "</div>"
      ],
      "text/plain": [
       "  InvoiceNo StockCode                          Description  Quantity  \\\n",
       "0    536365    85123A   WHITE HANGING HEART T-LIGHT HOLDER         6   \n",
       "1    536365     71053                  WHITE METAL LANTERN         6   \n",
       "2    536365    84406B       CREAM CUPID HEARTS COAT HANGER         8   \n",
       "3    536365    84029G  KNITTED UNION FLAG HOT WATER BOTTLE         6   \n",
       "4    536365    84029E       RED WOOLLY HOTTIE WHITE HEART.         6   \n",
       "\n",
       "      InvoiceDate  UnitPrice  CustomerID         Country       Date  \\\n",
       "0  12/1/2010 8:26       2.55     17850.0  United Kingdom 2010-12-01   \n",
       "1  12/1/2010 8:26       3.39     17850.0  United Kingdom 2010-12-01   \n",
       "2  12/1/2010 8:26       2.75     17850.0  United Kingdom 2010-12-01   \n",
       "3  12/1/2010 8:26       3.39     17850.0  United Kingdom 2010-12-01   \n",
       "4  12/1/2010 8:26       3.39     17850.0  United Kingdom 2010-12-01   \n",
       "\n",
       "   Total_cost   Recency  Frequency  Monetary  Score      Grade  \n",
       "0       15.30  0.002681   0.158654  0.019227    7.0  Very Weak  \n",
       "1       20.34  0.002681   0.158654  0.019227    7.0  Very Weak  \n",
       "2       22.00  0.002681   0.158654  0.019227    7.0  Very Weak  \n",
       "3       20.34  0.002681   0.158654  0.019227    7.0  Very Weak  \n",
       "4       20.34  0.002681   0.158654  0.019227    7.0  Very Weak  "
      ]
     },
     "execution_count": 44,
     "metadata": {},
     "output_type": "execute_result"
    }
   ],
   "source": [
    "df = pd.merge(df, rfm, how='left', on='CustomerID')\n",
    "df.head(5)"
   ]
  },
  {
   "cell_type": "markdown",
   "id": "f796d7e0",
   "metadata": {},
   "source": [
    "기존 데이터와 고객의 등급(Grade) 데이터를 하나의 지표로 만든다"
   ]
  },
  {
   "cell_type": "code",
   "execution_count": 45,
   "id": "8df8bd91",
   "metadata": {},
   "outputs": [
    {
     "data": {
      "text/html": [
       "<div>\n",
       "<style scoped>\n",
       "    .dataframe tbody tr th:only-of-type {\n",
       "        vertical-align: middle;\n",
       "    }\n",
       "\n",
       "    .dataframe tbody tr th {\n",
       "        vertical-align: top;\n",
       "    }\n",
       "\n",
       "    .dataframe thead th {\n",
       "        text-align: right;\n",
       "    }\n",
       "</style>\n",
       "<table border=\"1\" class=\"dataframe\">\n",
       "  <thead>\n",
       "    <tr style=\"text-align: right;\">\n",
       "      <th></th>\n",
       "      <th>InvoiceNo</th>\n",
       "      <th>StockCode</th>\n",
       "      <th>Description</th>\n",
       "      <th>Quantity</th>\n",
       "      <th>InvoiceDate</th>\n",
       "      <th>UnitPrice</th>\n",
       "      <th>CustomerID</th>\n",
       "      <th>Country</th>\n",
       "      <th>Date</th>\n",
       "      <th>Total_cost</th>\n",
       "      <th>Recency</th>\n",
       "      <th>Frequency</th>\n",
       "      <th>Monetary</th>\n",
       "      <th>Score</th>\n",
       "      <th>Grade</th>\n",
       "      <th>Date_1</th>\n",
       "    </tr>\n",
       "  </thead>\n",
       "  <tbody>\n",
       "    <tr>\n",
       "      <th>0</th>\n",
       "      <td>536365</td>\n",
       "      <td>85123A</td>\n",
       "      <td>WHITE HANGING HEART T-LIGHT HOLDER</td>\n",
       "      <td>6</td>\n",
       "      <td>12/1/2010 8:26</td>\n",
       "      <td>2.55</td>\n",
       "      <td>17850.0</td>\n",
       "      <td>United Kingdom</td>\n",
       "      <td>2010-12-01</td>\n",
       "      <td>15.30</td>\n",
       "      <td>0.002681</td>\n",
       "      <td>0.158654</td>\n",
       "      <td>0.019227</td>\n",
       "      <td>7.0</td>\n",
       "      <td>Very Weak</td>\n",
       "      <td>2010-12</td>\n",
       "    </tr>\n",
       "    <tr>\n",
       "      <th>1</th>\n",
       "      <td>536365</td>\n",
       "      <td>71053</td>\n",
       "      <td>WHITE METAL LANTERN</td>\n",
       "      <td>6</td>\n",
       "      <td>12/1/2010 8:26</td>\n",
       "      <td>3.39</td>\n",
       "      <td>17850.0</td>\n",
       "      <td>United Kingdom</td>\n",
       "      <td>2010-12-01</td>\n",
       "      <td>20.34</td>\n",
       "      <td>0.002681</td>\n",
       "      <td>0.158654</td>\n",
       "      <td>0.019227</td>\n",
       "      <td>7.0</td>\n",
       "      <td>Very Weak</td>\n",
       "      <td>2010-12</td>\n",
       "    </tr>\n",
       "    <tr>\n",
       "      <th>2</th>\n",
       "      <td>536365</td>\n",
       "      <td>84406B</td>\n",
       "      <td>CREAM CUPID HEARTS COAT HANGER</td>\n",
       "      <td>8</td>\n",
       "      <td>12/1/2010 8:26</td>\n",
       "      <td>2.75</td>\n",
       "      <td>17850.0</td>\n",
       "      <td>United Kingdom</td>\n",
       "      <td>2010-12-01</td>\n",
       "      <td>22.00</td>\n",
       "      <td>0.002681</td>\n",
       "      <td>0.158654</td>\n",
       "      <td>0.019227</td>\n",
       "      <td>7.0</td>\n",
       "      <td>Very Weak</td>\n",
       "      <td>2010-12</td>\n",
       "    </tr>\n",
       "    <tr>\n",
       "      <th>3</th>\n",
       "      <td>536365</td>\n",
       "      <td>84029G</td>\n",
       "      <td>KNITTED UNION FLAG HOT WATER BOTTLE</td>\n",
       "      <td>6</td>\n",
       "      <td>12/1/2010 8:26</td>\n",
       "      <td>3.39</td>\n",
       "      <td>17850.0</td>\n",
       "      <td>United Kingdom</td>\n",
       "      <td>2010-12-01</td>\n",
       "      <td>20.34</td>\n",
       "      <td>0.002681</td>\n",
       "      <td>0.158654</td>\n",
       "      <td>0.019227</td>\n",
       "      <td>7.0</td>\n",
       "      <td>Very Weak</td>\n",
       "      <td>2010-12</td>\n",
       "    </tr>\n",
       "    <tr>\n",
       "      <th>4</th>\n",
       "      <td>536365</td>\n",
       "      <td>84029E</td>\n",
       "      <td>RED WOOLLY HOTTIE WHITE HEART.</td>\n",
       "      <td>6</td>\n",
       "      <td>12/1/2010 8:26</td>\n",
       "      <td>3.39</td>\n",
       "      <td>17850.0</td>\n",
       "      <td>United Kingdom</td>\n",
       "      <td>2010-12-01</td>\n",
       "      <td>20.34</td>\n",
       "      <td>0.002681</td>\n",
       "      <td>0.158654</td>\n",
       "      <td>0.019227</td>\n",
       "      <td>7.0</td>\n",
       "      <td>Very Weak</td>\n",
       "      <td>2010-12</td>\n",
       "    </tr>\n",
       "  </tbody>\n",
       "</table>\n",
       "</div>"
      ],
      "text/plain": [
       "  InvoiceNo StockCode                          Description  Quantity  \\\n",
       "0    536365    85123A   WHITE HANGING HEART T-LIGHT HOLDER         6   \n",
       "1    536365     71053                  WHITE METAL LANTERN         6   \n",
       "2    536365    84406B       CREAM CUPID HEARTS COAT HANGER         8   \n",
       "3    536365    84029G  KNITTED UNION FLAG HOT WATER BOTTLE         6   \n",
       "4    536365    84029E       RED WOOLLY HOTTIE WHITE HEART.         6   \n",
       "\n",
       "      InvoiceDate  UnitPrice  CustomerID         Country       Date  \\\n",
       "0  12/1/2010 8:26       2.55     17850.0  United Kingdom 2010-12-01   \n",
       "1  12/1/2010 8:26       3.39     17850.0  United Kingdom 2010-12-01   \n",
       "2  12/1/2010 8:26       2.75     17850.0  United Kingdom 2010-12-01   \n",
       "3  12/1/2010 8:26       3.39     17850.0  United Kingdom 2010-12-01   \n",
       "4  12/1/2010 8:26       3.39     17850.0  United Kingdom 2010-12-01   \n",
       "\n",
       "   Total_cost   Recency  Frequency  Monetary  Score      Grade   Date_1  \n",
       "0       15.30  0.002681   0.158654  0.019227    7.0  Very Weak  2010-12  \n",
       "1       20.34  0.002681   0.158654  0.019227    7.0  Very Weak  2010-12  \n",
       "2       22.00  0.002681   0.158654  0.019227    7.0  Very Weak  2010-12  \n",
       "3       20.34  0.002681   0.158654  0.019227    7.0  Very Weak  2010-12  \n",
       "4       20.34  0.002681   0.158654  0.019227    7.0  Very Weak  2010-12  "
      ]
     },
     "execution_count": 45,
     "metadata": {},
     "output_type": "execute_result"
    }
   ],
   "source": [
    "df['Date_1'] = df[\"Date\"].dt.strftime(\"%Y-%m\")\n",
    "df.head(5)"
   ]
  },
  {
   "cell_type": "markdown",
   "id": "2a2c4a61",
   "metadata": {},
   "source": [
    "월별분석을 위해 연월만 새로운 변수로 정의한다"
   ]
  },
  {
   "cell_type": "code",
   "execution_count": 46,
   "id": "6c0b50a2",
   "metadata": {},
   "outputs": [
    {
     "data": {
      "text/html": [
       "<div>\n",
       "<style scoped>\n",
       "    .dataframe tbody tr th:only-of-type {\n",
       "        vertical-align: middle;\n",
       "    }\n",
       "\n",
       "    .dataframe tbody tr th {\n",
       "        vertical-align: top;\n",
       "    }\n",
       "\n",
       "    .dataframe thead th {\n",
       "        text-align: right;\n",
       "    }\n",
       "</style>\n",
       "<table border=\"1\" class=\"dataframe\">\n",
       "  <thead>\n",
       "    <tr style=\"text-align: right;\">\n",
       "      <th></th>\n",
       "      <th>Date_1</th>\n",
       "      <th>CustomerID</th>\n",
       "    </tr>\n",
       "  </thead>\n",
       "  <tbody>\n",
       "    <tr>\n",
       "      <th>8</th>\n",
       "      <td>2011-08</td>\n",
       "      <td>935</td>\n",
       "    </tr>\n",
       "    <tr>\n",
       "      <th>9</th>\n",
       "      <td>2011-09</td>\n",
       "      <td>1266</td>\n",
       "    </tr>\n",
       "    <tr>\n",
       "      <th>10</th>\n",
       "      <td>2011-10</td>\n",
       "      <td>1364</td>\n",
       "    </tr>\n",
       "    <tr>\n",
       "      <th>11</th>\n",
       "      <td>2011-11</td>\n",
       "      <td>1664</td>\n",
       "    </tr>\n",
       "    <tr>\n",
       "      <th>12</th>\n",
       "      <td>2011-12</td>\n",
       "      <td>615</td>\n",
       "    </tr>\n",
       "  </tbody>\n",
       "</table>\n",
       "</div>"
      ],
      "text/plain": [
       "     Date_1  CustomerID\n",
       "8   2011-08         935\n",
       "9   2011-09        1266\n",
       "10  2011-10        1364\n",
       "11  2011-11        1664\n",
       "12  2011-12         615"
      ]
     },
     "execution_count": 46,
     "metadata": {},
     "output_type": "execute_result"
    }
   ],
   "source": [
    "df_cus = df.groupby('Date_1',as_index=False)['CustomerID'].nunique()\n",
    "df_cus.tail(5)"
   ]
  },
  {
   "cell_type": "code",
   "execution_count": 51,
   "id": "58cee60e",
   "metadata": {},
   "outputs": [
    {
     "data": {
      "image/png": "[encoded data removed]",
      "text/plain": [
       "<Figure size 2500x500 with 1 Axes>"
      ]
     },
     "metadata": {},
     "output_type": "display_data"
    }
   ],
   "source": [
    "plt.plot(df_cus['Date_1'], df_cus['CustomerID'], label='이용고객');\n",
    "plt.legend();\n",
    "plt.gcf().set_size_inches(25, 5)"
   ]
  },
  {
   "cell_type": "markdown",
   "id": "779b3757",
   "metadata": {},
   "source": [
    "월별 이용 고객 현황을 확인한 결과, 2010/12 런칭 이후 사용자 수가 증가하고 2011/11 Peak를 달성했으나, 초기 사용자 수보다 급격하게 줄어드는 것을 알 수 있다"
   ]
  },
  {
   "cell_type": "code",
   "execution_count": 49,
   "id": "aa726749",
   "metadata": {},
   "outputs": [
    {
     "data": {
      "text/html": [
       "<div>\n",
       "<style scoped>\n",
       "    .dataframe tbody tr th:only-of-type {\n",
       "        vertical-align: middle;\n",
       "    }\n",
       "\n",
       "    .dataframe tbody tr th {\n",
       "        vertical-align: top;\n",
       "    }\n",
       "\n",
       "    .dataframe thead th {\n",
       "        text-align: right;\n",
       "    }\n",
       "</style>\n",
       "<table border=\"1\" class=\"dataframe\">\n",
       "  <thead>\n",
       "    <tr style=\"text-align: right;\">\n",
       "      <th></th>\n",
       "      <th>Date_1</th>\n",
       "      <th>InvoiceNo</th>\n",
       "    </tr>\n",
       "  </thead>\n",
       "  <tbody>\n",
       "    <tr>\n",
       "      <th>0</th>\n",
       "      <td>2010-12</td>\n",
       "      <td>1400</td>\n",
       "    </tr>\n",
       "    <tr>\n",
       "      <th>1</th>\n",
       "      <td>2011-01</td>\n",
       "      <td>987</td>\n",
       "    </tr>\n",
       "    <tr>\n",
       "      <th>2</th>\n",
       "      <td>2011-02</td>\n",
       "      <td>997</td>\n",
       "    </tr>\n",
       "    <tr>\n",
       "      <th>3</th>\n",
       "      <td>2011-03</td>\n",
       "      <td>1321</td>\n",
       "    </tr>\n",
       "    <tr>\n",
       "      <th>4</th>\n",
       "      <td>2011-04</td>\n",
       "      <td>1149</td>\n",
       "    </tr>\n",
       "  </tbody>\n",
       "</table>\n",
       "</div>"
      ],
      "text/plain": [
       "    Date_1  InvoiceNo\n",
       "0  2010-12       1400\n",
       "1  2011-01        987\n",
       "2  2011-02        997\n",
       "3  2011-03       1321\n",
       "4  2011-04       1149"
      ]
     },
     "execution_count": 49,
     "metadata": {},
     "output_type": "execute_result"
    }
   ],
   "source": [
    "df_cnt = df.groupby('Date_1',as_index=False)['InvoiceNo'].nunique()\n",
    "df_cnt.head(5)"
   ]
  },
  {
   "cell_type": "code",
   "execution_count": 52,
   "id": "7a221146",
   "metadata": {},
   "outputs": [
    {
     "data": {
      "image/png": "[encoded data removed]",
      "text/plain": [
       "<Figure size 2500x500 with 1 Axes>"
      ]
     },
     "metadata": {},
     "output_type": "display_data"
    }
   ],
   "source": [
    "plt.plot(df_cnt['Date_1'], df_cnt['InvoiceNo'], label='이용건수');\n",
    "plt.legend();\n",
    "plt.gcf().set_size_inches(25, 5)"
   ]
  },
  {
   "cell_type": "markdown",
   "id": "0372da70",
   "metadata": {},
   "source": [
    "월별 이용 건수 현황을 확인한 결과, 월별 이용 고객수와 비슷한 양상을 보이는 것을 알 수 있다"
   ]
  },
  {
   "cell_type": "code",
   "execution_count": 53,
   "id": "db983f21",
   "metadata": {},
   "outputs": [
    {
     "data": {
      "text/html": [
       "<div>\n",
       "<style scoped>\n",
       "    .dataframe tbody tr th:only-of-type {\n",
       "        vertical-align: middle;\n",
       "    }\n",
       "\n",
       "    .dataframe tbody tr th {\n",
       "        vertical-align: top;\n",
       "    }\n",
       "\n",
       "    .dataframe thead th {\n",
       "        text-align: right;\n",
       "    }\n",
       "</style>\n",
       "<table border=\"1\" class=\"dataframe\">\n",
       "  <thead>\n",
       "    <tr style=\"text-align: right;\">\n",
       "      <th></th>\n",
       "      <th>Date_1</th>\n",
       "      <th>Country</th>\n",
       "    </tr>\n",
       "  </thead>\n",
       "  <tbody>\n",
       "    <tr>\n",
       "      <th>0</th>\n",
       "      <td>2010-12</td>\n",
       "      <td>22</td>\n",
       "    </tr>\n",
       "    <tr>\n",
       "      <th>1</th>\n",
       "      <td>2011-01</td>\n",
       "      <td>20</td>\n",
       "    </tr>\n",
       "    <tr>\n",
       "      <th>2</th>\n",
       "      <td>2011-02</td>\n",
       "      <td>24</td>\n",
       "    </tr>\n",
       "    <tr>\n",
       "      <th>3</th>\n",
       "      <td>2011-03</td>\n",
       "      <td>22</td>\n",
       "    </tr>\n",
       "    <tr>\n",
       "      <th>4</th>\n",
       "      <td>2011-04</td>\n",
       "      <td>24</td>\n",
       "    </tr>\n",
       "  </tbody>\n",
       "</table>\n",
       "</div>"
      ],
      "text/plain": [
       "    Date_1  Country\n",
       "0  2010-12       22\n",
       "1  2011-01       20\n",
       "2  2011-02       24\n",
       "3  2011-03       22\n",
       "4  2011-04       24"
      ]
     },
     "execution_count": 53,
     "metadata": {},
     "output_type": "execute_result"
    }
   ],
   "source": [
    "df_country = df.groupby('Date_1',as_index=False)['Country'].nunique()\n",
    "df_country.head(5)"
   ]
  },
  {
   "cell_type": "code",
   "execution_count": 55,
   "id": "d8bfecb6",
   "metadata": {},
   "outputs": [
    {
     "data": {
      "image/png": "[encoded data removed]",
      "text/plain": [
       "<Figure size 2500x300 with 1 Axes>"
      ]
     },
     "metadata": {},
     "output_type": "display_data"
    }
   ],
   "source": [
    "plt.plot(df_country['Date_1'], df_country['Country'], label='이용국가');\n",
    "plt.legend();\n",
    "plt.gcf().set_size_inches(25, 3)"
   ]
  },
  {
   "cell_type": "markdown",
   "id": "05642053",
   "metadata": {},
   "source": [
    "월별 이용 국가 현황을 확인한 결과, 2011/01, 2011/05, 2011/09 급격하게 줄어드는 것을 알 수 있으며 2011/10 이후 초기 국가수보다 급격하게 줄어드는 것을 알 수 있다"
   ]
  },
  {
   "cell_type": "code",
   "execution_count": 56,
   "id": "61b9bd9c",
   "metadata": {},
   "outputs": [
    {
     "data": {
      "text/html": [
       "<div>\n",
       "<style scoped>\n",
       "    .dataframe tbody tr th:only-of-type {\n",
       "        vertical-align: middle;\n",
       "    }\n",
       "\n",
       "    .dataframe tbody tr th {\n",
       "        vertical-align: top;\n",
       "    }\n",
       "\n",
       "    .dataframe thead th {\n",
       "        text-align: right;\n",
       "    }\n",
       "</style>\n",
       "<table border=\"1\" class=\"dataframe\">\n",
       "  <thead>\n",
       "    <tr style=\"text-align: right;\">\n",
       "      <th></th>\n",
       "      <th>InvoiceNo</th>\n",
       "    </tr>\n",
       "    <tr>\n",
       "      <th>Country</th>\n",
       "      <th></th>\n",
       "    </tr>\n",
       "  </thead>\n",
       "  <tbody>\n",
       "    <tr>\n",
       "      <th>United Kingdom</th>\n",
       "      <td>16646</td>\n",
       "    </tr>\n",
       "    <tr>\n",
       "      <th>Germany</th>\n",
       "      <td>457</td>\n",
       "    </tr>\n",
       "    <tr>\n",
       "      <th>France</th>\n",
       "      <td>389</td>\n",
       "    </tr>\n",
       "    <tr>\n",
       "      <th>EIRE</th>\n",
       "      <td>260</td>\n",
       "    </tr>\n",
       "    <tr>\n",
       "      <th>Belgium</th>\n",
       "      <td>98</td>\n",
       "    </tr>\n",
       "    <tr>\n",
       "      <th>Netherlands</th>\n",
       "      <td>94</td>\n",
       "    </tr>\n",
       "    <tr>\n",
       "      <th>Spain</th>\n",
       "      <td>90</td>\n",
       "    </tr>\n",
       "    <tr>\n",
       "      <th>Australia</th>\n",
       "      <td>57</td>\n",
       "    </tr>\n",
       "    <tr>\n",
       "      <th>Portugal</th>\n",
       "      <td>57</td>\n",
       "    </tr>\n",
       "    <tr>\n",
       "      <th>Switzerland</th>\n",
       "      <td>51</td>\n",
       "    </tr>\n",
       "  </tbody>\n",
       "</table>\n",
       "</div>"
      ],
      "text/plain": [
       "                InvoiceNo\n",
       "Country                  \n",
       "United Kingdom      16646\n",
       "Germany               457\n",
       "France                389\n",
       "EIRE                  260\n",
       "Belgium                98\n",
       "Netherlands            94\n",
       "Spain                  90\n",
       "Australia              57\n",
       "Portugal               57\n",
       "Switzerland            51"
      ]
     },
     "execution_count": 56,
     "metadata": {},
     "output_type": "execute_result"
    }
   ],
   "source": [
    "pd.DataFrame(df.groupby(['Country'])['InvoiceNo'].nunique().sort_values(ascending=False)).head(10)"
   ]
  },
  {
   "cell_type": "markdown",
   "id": "58d2ace9",
   "metadata": {},
   "source": [
    "가장 주문을 많이 하는 나라는 United Kingdom이다"
   ]
  },
  {
   "cell_type": "code",
   "execution_count": 58,
   "id": "1165e460",
   "metadata": {},
   "outputs": [
    {
     "data": {
      "text/html": [
       "<div>\n",
       "<style scoped>\n",
       "    .dataframe tbody tr th:only-of-type {\n",
       "        vertical-align: middle;\n",
       "    }\n",
       "\n",
       "    .dataframe tbody tr th {\n",
       "        vertical-align: top;\n",
       "    }\n",
       "\n",
       "    .dataframe thead th {\n",
       "        text-align: right;\n",
       "    }\n",
       "</style>\n",
       "<table border=\"1\" class=\"dataframe\">\n",
       "  <thead>\n",
       "    <tr style=\"text-align: right;\">\n",
       "      <th></th>\n",
       "      <th>Date_1</th>\n",
       "      <th>Grade</th>\n",
       "      <th>CustomerID</th>\n",
       "    </tr>\n",
       "  </thead>\n",
       "  <tbody>\n",
       "    <tr>\n",
       "      <th>0</th>\n",
       "      <td>2010-12</td>\n",
       "      <td>Normal</td>\n",
       "      <td>291</td>\n",
       "    </tr>\n",
       "    <tr>\n",
       "      <th>1</th>\n",
       "      <td>2010-12</td>\n",
       "      <td>Strong</td>\n",
       "      <td>397</td>\n",
       "    </tr>\n",
       "    <tr>\n",
       "      <th>2</th>\n",
       "      <td>2010-12</td>\n",
       "      <td>Very Strong</td>\n",
       "      <td>11</td>\n",
       "    </tr>\n",
       "    <tr>\n",
       "      <th>3</th>\n",
       "      <td>2010-12</td>\n",
       "      <td>Very Weak</td>\n",
       "      <td>144</td>\n",
       "    </tr>\n",
       "    <tr>\n",
       "      <th>4</th>\n",
       "      <td>2010-12</td>\n",
       "      <td>Weak</td>\n",
       "      <td>42</td>\n",
       "    </tr>\n",
       "  </tbody>\n",
       "</table>\n",
       "</div>"
      ],
      "text/plain": [
       "    Date_1        Grade  CustomerID\n",
       "0  2010-12       Normal         291\n",
       "1  2010-12       Strong         397\n",
       "2  2010-12  Very Strong          11\n",
       "3  2010-12    Very Weak         144\n",
       "4  2010-12         Weak          42"
      ]
     },
     "execution_count": 58,
     "metadata": {},
     "output_type": "execute_result"
    }
   ],
   "source": [
    "df_grade = df.groupby(['Date_1', 'Grade'],as_index=False)['CustomerID'].nunique()\n",
    "df_grade.head(5)"
   ]
  },
  {
   "cell_type": "code",
   "execution_count": 59,
   "id": "fb635549",
   "metadata": {},
   "outputs": [
    {
     "data": {
      "text/html": [
       "<div>\n",
       "<style scoped>\n",
       "    .dataframe tbody tr th:only-of-type {\n",
       "        vertical-align: middle;\n",
       "    }\n",
       "\n",
       "    .dataframe tbody tr th {\n",
       "        vertical-align: top;\n",
       "    }\n",
       "\n",
       "    .dataframe thead th {\n",
       "        text-align: right;\n",
       "    }\n",
       "</style>\n",
       "<table border=\"1\" class=\"dataframe\">\n",
       "  <thead>\n",
       "    <tr style=\"text-align: right;\">\n",
       "      <th>Grade</th>\n",
       "      <th>Normal</th>\n",
       "      <th>Strong</th>\n",
       "      <th>Very Strong</th>\n",
       "      <th>Very Weak</th>\n",
       "      <th>Weak</th>\n",
       "    </tr>\n",
       "    <tr>\n",
       "      <th>Date_1</th>\n",
       "      <th></th>\n",
       "      <th></th>\n",
       "      <th></th>\n",
       "      <th></th>\n",
       "      <th></th>\n",
       "    </tr>\n",
       "  </thead>\n",
       "  <tbody>\n",
       "    <tr>\n",
       "      <th>2010-12</th>\n",
       "      <td>0.328814</td>\n",
       "      <td>0.448588</td>\n",
       "      <td>0.012429</td>\n",
       "      <td>0.162712</td>\n",
       "      <td>0.047458</td>\n",
       "    </tr>\n",
       "    <tr>\n",
       "      <th>2011-01</th>\n",
       "      <td>0.349528</td>\n",
       "      <td>0.450742</td>\n",
       "      <td>0.014845</td>\n",
       "      <td>0.139001</td>\n",
       "      <td>0.045884</td>\n",
       "    </tr>\n",
       "    <tr>\n",
       "      <th>2011-02</th>\n",
       "      <td>0.377309</td>\n",
       "      <td>0.419525</td>\n",
       "      <td>0.014512</td>\n",
       "      <td>0.131926</td>\n",
       "      <td>0.056728</td>\n",
       "    </tr>\n",
       "    <tr>\n",
       "      <th>2011-03</th>\n",
       "      <td>0.388090</td>\n",
       "      <td>0.401437</td>\n",
       "      <td>0.012320</td>\n",
       "      <td>0.000000</td>\n",
       "      <td>0.198152</td>\n",
       "    </tr>\n",
       "    <tr>\n",
       "      <th>2011-04</th>\n",
       "      <td>0.394860</td>\n",
       "      <td>0.420561</td>\n",
       "      <td>0.014019</td>\n",
       "      <td>0.000000</td>\n",
       "      <td>0.170561</td>\n",
       "    </tr>\n",
       "    <tr>\n",
       "      <th>2011-05</th>\n",
       "      <td>0.428977</td>\n",
       "      <td>0.425189</td>\n",
       "      <td>0.012311</td>\n",
       "      <td>0.000000</td>\n",
       "      <td>0.133523</td>\n",
       "    </tr>\n",
       "    <tr>\n",
       "      <th>2011-06</th>\n",
       "      <td>0.560040</td>\n",
       "      <td>0.427851</td>\n",
       "      <td>0.012109</td>\n",
       "      <td>0.000000</td>\n",
       "      <td>0.000000</td>\n",
       "    </tr>\n",
       "    <tr>\n",
       "      <th>2011-07</th>\n",
       "      <td>0.543730</td>\n",
       "      <td>0.443625</td>\n",
       "      <td>0.012645</td>\n",
       "      <td>0.000000</td>\n",
       "      <td>0.000000</td>\n",
       "    </tr>\n",
       "    <tr>\n",
       "      <th>2011-08</th>\n",
       "      <td>0.533690</td>\n",
       "      <td>0.453476</td>\n",
       "      <td>0.012834</td>\n",
       "      <td>0.000000</td>\n",
       "      <td>0.000000</td>\n",
       "    </tr>\n",
       "    <tr>\n",
       "      <th>2011-09</th>\n",
       "      <td>0.552133</td>\n",
       "      <td>0.438389</td>\n",
       "      <td>0.009479</td>\n",
       "      <td>0.000000</td>\n",
       "      <td>0.000000</td>\n",
       "    </tr>\n",
       "    <tr>\n",
       "      <th>2011-10</th>\n",
       "      <td>0.593842</td>\n",
       "      <td>0.397361</td>\n",
       "      <td>0.008798</td>\n",
       "      <td>0.000000</td>\n",
       "      <td>0.000000</td>\n",
       "    </tr>\n",
       "    <tr>\n",
       "      <th>2011-11</th>\n",
       "      <td>0.505409</td>\n",
       "      <td>0.487380</td>\n",
       "      <td>0.007212</td>\n",
       "      <td>0.000000</td>\n",
       "      <td>0.000000</td>\n",
       "    </tr>\n",
       "    <tr>\n",
       "      <th>2011-12</th>\n",
       "      <td>0.000000</td>\n",
       "      <td>0.983740</td>\n",
       "      <td>0.016260</td>\n",
       "      <td>0.000000</td>\n",
       "      <td>0.000000</td>\n",
       "    </tr>\n",
       "  </tbody>\n",
       "</table>\n",
       "</div>"
      ],
      "text/plain": [
       "Grade      Normal    Strong  Very Strong  Very Weak      Weak\n",
       "Date_1                                                       \n",
       "2010-12  0.328814  0.448588     0.012429   0.162712  0.047458\n",
       "2011-01  0.349528  0.450742     0.014845   0.139001  0.045884\n",
       "2011-02  0.377309  0.419525     0.014512   0.131926  0.056728\n",
       "2011-03  0.388090  0.401437     0.012320   0.000000  0.198152\n",
       "2011-04  0.394860  0.420561     0.014019   0.000000  0.170561\n",
       "2011-05  0.428977  0.425189     0.012311   0.000000  0.133523\n",
       "2011-06  0.560040  0.427851     0.012109   0.000000  0.000000\n",
       "2011-07  0.543730  0.443625     0.012645   0.000000  0.000000\n",
       "2011-08  0.533690  0.453476     0.012834   0.000000  0.000000\n",
       "2011-09  0.552133  0.438389     0.009479   0.000000  0.000000\n",
       "2011-10  0.593842  0.397361     0.008798   0.000000  0.000000\n",
       "2011-11  0.505409  0.487380     0.007212   0.000000  0.000000\n",
       "2011-12  0.000000  0.983740     0.016260   0.000000  0.000000"
      ]
     },
     "execution_count": 59,
     "metadata": {},
     "output_type": "execute_result"
    }
   ],
   "source": [
    "df_pivot = pd.pivot_table(df_grade,            \n",
    "                      index = 'Date_1',        \n",
    "                      columns = 'Grade',       \n",
    "                      values = 'CustomerID')  \n",
    "\n",
    "df_pivot.fillna(0, inplace=True)\n",
    "df_pivot['total'] = df_pivot['Very Strong'] + df_pivot['Strong'] + df_pivot['Normal'] + df_pivot['Weak'] + df_pivot['Very Weak']\n",
    "\n",
    "\n",
    "df_pivot.iloc[:,0] = (df_pivot.iloc[:,0] / df_pivot['total'])\n",
    "df_pivot.iloc[:,1] = (df_pivot.iloc[:,1] / df_pivot['total'])\n",
    "df_pivot.iloc[:,2] = (df_pivot.iloc[:,2] / df_pivot['total'])\n",
    "df_pivot.iloc[:,3] = (df_pivot.iloc[:,3] / df_pivot['total'])\n",
    "df_pivot.iloc[:,4] = (df_pivot.iloc[:,4] / df_pivot['total'])\n",
    "\n",
    "df_pivot.drop(['total'], axis=1, inplace=True)\n",
    "df_pivot"
   ]
  },
  {
   "cell_type": "code",
   "execution_count": 60,
   "id": "138ada67",
   "metadata": {},
   "outputs": [
    {
     "data": {
      "image/png": "[encoded data removed]",
      "text/plain": [
       "<Figure size 2500x1500 with 1 Axes>"
      ]
     },
     "metadata": {},
     "output_type": "display_data"
    }
   ],
   "source": [
    "ax = df_pivot.plot(kind='barh', stacked=True, title=\"years amt\", rot=0);\n",
    "for p in ax.patches:\n",
    "    left, bottom, width, height = p.get_bbox().bounds\n",
    "    ax.annotate(\"%.1f\"%(width*100), xy=(left+width/2, bottom+height/2), ha='center', va='center', color='black');\n",
    "\n",
    "plt.box(False)\n",
    "plt.gcf().set_size_inches(25, 15)\n",
    "plt.show()"
   ]
  },
  {
   "cell_type": "markdown",
   "id": "aa686ddd",
   "metadata": {},
   "source": [
    "월별 Grade 이용 비중을 확인한 결과, 시간이 지날수록 낮은 등급의 고객들은 사라지는 것을 알 수 있다. 2011/02 이후 Very Weak, 2011/05 이후 Very Weak/Weak, 2011/11 이후 Very Weak/Weak/Normal 등급의 고객들이 사라지고 있다. Very Strong 등급 고객은 매월 거의 비슷한 양상을 보이며, 2011/12은 Strong 등급 고객이 2배 가까이 급증하는 것을 확인할 수 있다"
   ]
  },
  {
   "cell_type": "markdown",
   "id": "7ff4314e",
   "metadata": {},
   "source": [
    "성과측정은 기본 베이스 코드(위의 전체 코드)를 가지고 익월 데이터를 추가 업로드해서 성과비교가 필요하다. 예를 들어, 위의 데이터로 예측한 지표 활용 서비스 사용 현황을 기반으로 등급별 고객에 대해 관리 전/후 모니터링을 통해 비교하는것이다. 추가로 정체 원인 파악 및 대응책 수립 및 실행이 필요해보인다"
   ]
  }
 ],
 "metadata": {
  "kernelspec": {
   "display_name": "Python 3 (ipykernel)",
   "language": "python",
   "name": "python3"
  },
  "language_info": {
   "codemirror_mode": {
    "name": "ipython",
    "version": 3
   },
   "file_extension": ".py",
   "mimetype": "text/x-python",
   "name": "python",
   "nbconvert_exporter": "python",
   "pygments_lexer": "ipython3",
   "version": "3.7.13"
  }
 },
 "nbformat": 4,
 "nbformat_minor": 5
}
